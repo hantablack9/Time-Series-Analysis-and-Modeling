{
 "cells": [
  {
   "attachments": {
    "dd4630dd-31dc-4c0c-9fff-fe3b09e01ee2.png": {
     "image/png": "[encoded data removed]"
    }
   },
   "cell_type": "markdown",
   "id": "df0c03ab",
   "metadata": {
    "_cell_guid": "b1076dfc-b9ad-4769-8c92-a6c4dae69d19",
    "_uuid": "8f2839f25d086af736a60e9eeb907d3b93b6e0e5",
    "papermill": {
     "duration": 0.017096,
     "end_time": "2023-08-09T15:08:15.188951",
     "exception": false,
     "start_time": "2023-08-09T15:08:15.171855",
     "status": "completed"
    },
    "tags": []
   },
   "source": [
    "![image.png](attachment:dd4630dd-31dc-4c0c-9fff-fe3b09e01ee2.png)"
   ]
  },
  {
   "cell_type": "markdown",
   "id": "1f71767e",
   "metadata": {
    "papermill": {
     "duration": 0.015867,
     "end_time": "2023-08-09T15:08:15.221306",
     "exception": false,
     "start_time": "2023-08-09T15:08:15.205439",
     "status": "completed"
    },
    "tags": []
   },
   "source": [
    "\n",
    "For your convenience, the data can be found here again: \n",
    "https://cocl.us/concrete_data\n",
    "\n",
    "To recap, the predictors in the data of concrete strength include:\n",
    "\n",
    ">- Cement\n",
    ">- Blast Furnace Slag\n",
    ">- Fly Ash\n",
    ">- Water\n",
    ">- Superplasticizer\n",
    ">- Coarse Aggregate\n",
    ">- Fine Aggregate"
   ]
  },
  {
   "cell_type": "markdown",
   "id": "54bdc02f",
   "metadata": {
    "execution": {
     "iopub.execute_input": "2023-07-09T16:56:51.934946Z",
     "iopub.status.busy": "2023-07-09T16:56:51.934038Z",
     "iopub.status.idle": "2023-07-09T16:56:51.94348Z",
     "shell.execute_reply": "2023-07-09T16:56:51.941759Z",
     "shell.execute_reply.started": "2023-07-09T16:56:51.934909Z"
    },
    "papermill": {
     "duration": 0.015768,
     "end_time": "2023-08-09T15:08:15.253353",
     "exception": false,
     "start_time": "2023-08-09T15:08:15.237585",
     "status": "completed"
    },
    "tags": []
   },
   "source": [
    "<a id = '0'></a>\n",
    "# Workflow:\n",
    "\n",
    ">- [1 Imports, Data Loading](#1)\n",
    ">- [2 Data Understanding](#2)\n",
    ">- [3 Preprocessing](#3)\n",
    ">- [4 Exploratory Data Analysis](#4)\n",
    ">- [5 Model Training and Perfomance](#5)\n",
    ">  - [5.1 Feature Selection](#5.1)\n",
    ">  - [5.2 Building the Neural Network](#5.2)\n",
    ">  - [5.3 Training the Neural Network](#5.3)\n",
    ">  - [5.4 Evaluating the model performance](#5.4)"
   ]
  },
  {
   "cell_type": "markdown",
   "id": "6c65ccbd",
   "metadata": {
    "papermill": {
     "duration": 0.01573,
     "end_time": "2023-08-09T15:08:15.285239",
     "exception": false,
     "start_time": "2023-08-09T15:08:15.269509",
     "status": "completed"
    },
    "tags": []
   },
   "source": [
    "<a id = '1'></a>\n",
    "# [1 Imports, Data Loading](#0)"
   ]
  },
  {
   "cell_type": "code",
   "execution_count": 1,
   "id": "e68e2b05",
   "metadata": {
    "execution": {
     "iopub.execute_input": "2023-08-09T15:08:15.321087Z",
     "iopub.status.busy": "2023-08-09T15:08:15.320514Z",
     "iopub.status.idle": "2023-08-09T15:08:21.121645Z",
     "shell.execute_reply": "2023-08-09T15:08:21.120079Z"
    },
    "papermill": {
     "duration": 5.823053,
     "end_time": "2023-08-09T15:08:21.125155",
     "exception": false,
     "start_time": "2023-08-09T15:08:15.302102",
     "status": "completed"
    },
    "tags": []
   },
   "outputs": [
    {
     "name": "stderr",
     "output_type": "stream",
     "text": [
      "/opt/conda/lib/python3.10/site-packages/numba/core/decorators.py:262: NumbaDeprecationWarning: \u001b[1mnumba.generated_jit is deprecated. Please see the documentation at: https://numba.readthedocs.io/en/stable/reference/deprecation.html#deprecation-of-generated-jit for more information and advice on a suitable replacement.\u001b[0m\n",
      "  warnings.warn(msg, NumbaDeprecationWarning)\n",
      "/opt/conda/lib/python3.10/site-packages/visions/backends/shared/nan_handling.py:51: NumbaDeprecationWarning: \u001b[1mThe 'nopython' keyword argument was not supplied to the 'numba.jit' decorator. The implicit default value for this argument is currently False, but it will be changed to True in Numba 0.59.0. See https://numba.readthedocs.io/en/stable/reference/deprecation.html#deprecation-of-object-mode-fall-back-behaviour-when-using-jit for details.\u001b[0m\n",
      "  def hasna(x: np.ndarray) -> bool:\n"
     ]
    }
   ],
   "source": [
    "## Importing dependencies\n",
    "import pandas as pd\n",
    "import seaborn as sns\n",
    "import matplotlib.pyplot as plt\n",
    "%matplotlib inline\n",
    "\n",
    "import numpy as np\n",
    "from ydata_profiling import ProfileReport\n",
    "\n",
    "# Set plot style\n",
    "sns.set(color_codes=True)\n",
    "sns.set_style(\"darkgrid\")\n",
    "plt.style.use(\"ggplot\")\n",
    "\n",
    "plt.rcParams['figure.figsize']=15,8\n",
    "pd.pandas.set_option('display.max_columns', None)\n",
    "pd.pandas.set_option('display.float_format', lambda x: '%.3f' % x)\n",
    "\n",
    "import warnings\n",
    "warnings.filterwarnings('ignore')"
   ]
  },
  {
   "cell_type": "code",
   "execution_count": 2,
   "id": "dd70ea57",
   "metadata": {
    "execution": {
     "iopub.execute_input": "2023-08-09T15:08:21.163626Z",
     "iopub.status.busy": "2023-08-09T15:08:21.162978Z",
     "iopub.status.idle": "2023-08-09T15:08:21.229491Z",
     "shell.execute_reply": "2023-08-09T15:08:21.227991Z"
    },
    "papermill": {
     "duration": 0.089514,
     "end_time": "2023-08-09T15:08:21.232705",
     "exception": false,
     "start_time": "2023-08-09T15:08:21.143191",
     "status": "completed"
    },
    "tags": []
   },
   "outputs": [
    {
     "data": {
      "text/html": [
       "<div>\n",
       "<style scoped>\n",
       "    .dataframe tbody tr th:only-of-type {\n",
       "        vertical-align: middle;\n",
       "    }\n",
       "\n",
       "    .dataframe tbody tr th {\n",
       "        vertical-align: top;\n",
       "    }\n",
       "\n",
       "    .dataframe thead th {\n",
       "        text-align: right;\n",
       "    }\n",
       "</style>\n",
       "<table border=\"1\" class=\"dataframe\">\n",
       "  <thead>\n",
       "    <tr style=\"text-align: right;\">\n",
       "      <th></th>\n",
       "      <th>Cement</th>\n",
       "      <th>Blast Furnace Slag</th>\n",
       "      <th>Fly Ash</th>\n",
       "      <th>Water</th>\n",
       "      <th>Superplasticizer</th>\n",
       "      <th>Coarse Aggregate</th>\n",
       "      <th>Fine Aggregate</th>\n",
       "      <th>Age</th>\n",
       "      <th>Strength</th>\n",
       "    </tr>\n",
       "  </thead>\n",
       "  <tbody>\n",
       "    <tr>\n",
       "      <th>0</th>\n",
       "      <td>540.000</td>\n",
       "      <td>0.000</td>\n",
       "      <td>0.000</td>\n",
       "      <td>162.000</td>\n",
       "      <td>2.500</td>\n",
       "      <td>1040.000</td>\n",
       "      <td>676.000</td>\n",
       "      <td>28</td>\n",
       "      <td>79.990</td>\n",
       "    </tr>\n",
       "    <tr>\n",
       "      <th>1</th>\n",
       "      <td>540.000</td>\n",
       "      <td>0.000</td>\n",
       "      <td>0.000</td>\n",
       "      <td>162.000</td>\n",
       "      <td>2.500</td>\n",
       "      <td>1055.000</td>\n",
       "      <td>676.000</td>\n",
       "      <td>28</td>\n",
       "      <td>61.890</td>\n",
       "    </tr>\n",
       "    <tr>\n",
       "      <th>2</th>\n",
       "      <td>332.500</td>\n",
       "      <td>142.500</td>\n",
       "      <td>0.000</td>\n",
       "      <td>228.000</td>\n",
       "      <td>0.000</td>\n",
       "      <td>932.000</td>\n",
       "      <td>594.000</td>\n",
       "      <td>270</td>\n",
       "      <td>40.270</td>\n",
       "    </tr>\n",
       "    <tr>\n",
       "      <th>3</th>\n",
       "      <td>332.500</td>\n",
       "      <td>142.500</td>\n",
       "      <td>0.000</td>\n",
       "      <td>228.000</td>\n",
       "      <td>0.000</td>\n",
       "      <td>932.000</td>\n",
       "      <td>594.000</td>\n",
       "      <td>365</td>\n",
       "      <td>41.050</td>\n",
       "    </tr>\n",
       "    <tr>\n",
       "      <th>4</th>\n",
       "      <td>198.600</td>\n",
       "      <td>132.400</td>\n",
       "      <td>0.000</td>\n",
       "      <td>192.000</td>\n",
       "      <td>0.000</td>\n",
       "      <td>978.400</td>\n",
       "      <td>825.500</td>\n",
       "      <td>360</td>\n",
       "      <td>44.300</td>\n",
       "    </tr>\n",
       "  </tbody>\n",
       "</table>\n",
       "</div>"
      ],
      "text/plain": [
       "   Cement  Blast Furnace Slag  Fly Ash   Water  Superplasticizer  \\\n",
       "0 540.000               0.000    0.000 162.000             2.500   \n",
       "1 540.000               0.000    0.000 162.000             2.500   \n",
       "2 332.500             142.500    0.000 228.000             0.000   \n",
       "3 332.500             142.500    0.000 228.000             0.000   \n",
       "4 198.600             132.400    0.000 192.000             0.000   \n",
       "\n",
       "   Coarse Aggregate  Fine Aggregate  Age  Strength  \n",
       "0          1040.000         676.000   28    79.990  \n",
       "1          1055.000         676.000   28    61.890  \n",
       "2           932.000         594.000  270    40.270  \n",
       "3           932.000         594.000  365    41.050  \n",
       "4           978.400         825.500  360    44.300  "
      ]
     },
     "execution_count": 2,
     "metadata": {},
     "output_type": "execute_result"
    }
   ],
   "source": [
    "df = pd.read_csv('/kaggle/input/concrete-data/concrete_data.csv')\n",
    "df.head()"
   ]
  },
  {
   "cell_type": "code",
   "execution_count": 3,
   "id": "cce2ce39",
   "metadata": {
    "execution": {
     "iopub.execute_input": "2023-08-09T15:08:21.271542Z",
     "iopub.status.busy": "2023-08-09T15:08:21.271062Z",
     "iopub.status.idle": "2023-08-09T15:08:21.292049Z",
     "shell.execute_reply": "2023-08-09T15:08:21.290465Z"
    },
    "papermill": {
     "duration": 0.04413,
     "end_time": "2023-08-09T15:08:21.295134",
     "exception": false,
     "start_time": "2023-08-09T15:08:21.251004",
     "status": "completed"
    },
    "tags": []
   },
   "outputs": [
    {
     "data": {
      "text/plain": [
       "Index(['cement', 'bf_slag', 'fly_ash', 'water', 'superplasticizer',\n",
       "       'coarse_aggregate', 'fine_aggregate', 'age', 'strength'],\n",
       "      dtype='object')"
      ]
     },
     "execution_count": 3,
     "metadata": {},
     "output_type": "execute_result"
    }
   ],
   "source": [
    "import re\n",
    "df.rename(columns = lambda x: x.lower(), inplace=True)\n",
    "df.rename(columns = lambda x: re.sub('\\s+', '_', x), inplace=True)\n",
    "df.rename(columns = {'blast_furnace_slag':'bf_slag'}, inplace=True)\n",
    "df.columns"
   ]
  },
  {
   "cell_type": "markdown",
   "id": "a901906e",
   "metadata": {
    "papermill": {
     "duration": 0.016947,
     "end_time": "2023-08-09T15:08:21.329681",
     "exception": false,
     "start_time": "2023-08-09T15:08:21.312734",
     "status": "completed"
    },
    "tags": []
   },
   "source": [
    "\n",
    "<a id = '2'></a>\n",
    "# [2 Data Understanding](#0)\n"
   ]
  },
  {
   "cell_type": "code",
   "execution_count": 4,
   "id": "9402a7a2",
   "metadata": {
    "execution": {
     "iopub.execute_input": "2023-08-09T15:08:21.366609Z",
     "iopub.status.busy": "2023-08-09T15:08:21.366153Z",
     "iopub.status.idle": "2023-08-09T15:08:21.396468Z",
     "shell.execute_reply": "2023-08-09T15:08:21.394999Z"
    },
    "papermill": {
     "duration": 0.052278,
     "end_time": "2023-08-09T15:08:21.399367",
     "exception": false,
     "start_time": "2023-08-09T15:08:21.347089",
     "status": "completed"
    },
    "tags": []
   },
   "outputs": [
    {
     "name": "stdout",
     "output_type": "stream",
     "text": [
      "<class 'pandas.core.frame.DataFrame'>\n",
      "RangeIndex: 1030 entries, 0 to 1029\n",
      "Data columns (total 9 columns):\n",
      " #   Column            Non-Null Count  Dtype  \n",
      "---  ------            --------------  -----  \n",
      " 0   cement            1030 non-null   float64\n",
      " 1   bf_slag           1030 non-null   float64\n",
      " 2   fly_ash           1030 non-null   float64\n",
      " 3   water             1030 non-null   float64\n",
      " 4   superplasticizer  1030 non-null   float64\n",
      " 5   coarse_aggregate  1030 non-null   float64\n",
      " 6   fine_aggregate    1030 non-null   float64\n",
      " 7   age               1030 non-null   int64  \n",
      " 8   strength          1030 non-null   float64\n",
      "dtypes: float64(8), int64(1)\n",
      "memory usage: 72.5 KB\n"
     ]
    }
   ],
   "source": [
    "df.info()"
   ]
  },
  {
   "cell_type": "code",
   "execution_count": 5,
   "id": "ded660bf",
   "metadata": {
    "execution": {
     "iopub.execute_input": "2023-08-09T15:08:21.436646Z",
     "iopub.status.busy": "2023-08-09T15:08:21.436170Z",
     "iopub.status.idle": "2023-08-09T15:08:21.487841Z",
     "shell.execute_reply": "2023-08-09T15:08:21.486123Z"
    },
    "papermill": {
     "duration": 0.073875,
     "end_time": "2023-08-09T15:08:21.490826",
     "exception": false,
     "start_time": "2023-08-09T15:08:21.416951",
     "status": "completed"
    },
    "tags": []
   },
   "outputs": [
    {
     "data": {
      "text/html": [
       "<div>\n",
       "<style scoped>\n",
       "    .dataframe tbody tr th:only-of-type {\n",
       "        vertical-align: middle;\n",
       "    }\n",
       "\n",
       "    .dataframe tbody tr th {\n",
       "        vertical-align: top;\n",
       "    }\n",
       "\n",
       "    .dataframe thead th {\n",
       "        text-align: right;\n",
       "    }\n",
       "</style>\n",
       "<table border=\"1\" class=\"dataframe\">\n",
       "  <thead>\n",
       "    <tr style=\"text-align: right;\">\n",
       "      <th></th>\n",
       "      <th>cement</th>\n",
       "      <th>bf_slag</th>\n",
       "      <th>fly_ash</th>\n",
       "      <th>water</th>\n",
       "      <th>superplasticizer</th>\n",
       "      <th>coarse_aggregate</th>\n",
       "      <th>fine_aggregate</th>\n",
       "      <th>age</th>\n",
       "      <th>strength</th>\n",
       "    </tr>\n",
       "  </thead>\n",
       "  <tbody>\n",
       "    <tr>\n",
       "      <th>count</th>\n",
       "      <td>1030.000</td>\n",
       "      <td>1030.000</td>\n",
       "      <td>1030.000</td>\n",
       "      <td>1030.000</td>\n",
       "      <td>1030.000</td>\n",
       "      <td>1030.000</td>\n",
       "      <td>1030.000</td>\n",
       "      <td>1030.000</td>\n",
       "      <td>1030.000</td>\n",
       "    </tr>\n",
       "    <tr>\n",
       "      <th>mean</th>\n",
       "      <td>281.168</td>\n",
       "      <td>73.896</td>\n",
       "      <td>54.188</td>\n",
       "      <td>181.567</td>\n",
       "      <td>6.205</td>\n",
       "      <td>972.919</td>\n",
       "      <td>773.580</td>\n",
       "      <td>45.662</td>\n",
       "      <td>35.818</td>\n",
       "    </tr>\n",
       "    <tr>\n",
       "      <th>std</th>\n",
       "      <td>104.506</td>\n",
       "      <td>86.279</td>\n",
       "      <td>63.997</td>\n",
       "      <td>21.354</td>\n",
       "      <td>5.974</td>\n",
       "      <td>77.754</td>\n",
       "      <td>80.176</td>\n",
       "      <td>63.170</td>\n",
       "      <td>16.706</td>\n",
       "    </tr>\n",
       "    <tr>\n",
       "      <th>min</th>\n",
       "      <td>102.000</td>\n",
       "      <td>0.000</td>\n",
       "      <td>0.000</td>\n",
       "      <td>121.800</td>\n",
       "      <td>0.000</td>\n",
       "      <td>801.000</td>\n",
       "      <td>594.000</td>\n",
       "      <td>1.000</td>\n",
       "      <td>2.330</td>\n",
       "    </tr>\n",
       "    <tr>\n",
       "      <th>25%</th>\n",
       "      <td>192.375</td>\n",
       "      <td>0.000</td>\n",
       "      <td>0.000</td>\n",
       "      <td>164.900</td>\n",
       "      <td>0.000</td>\n",
       "      <td>932.000</td>\n",
       "      <td>730.950</td>\n",
       "      <td>7.000</td>\n",
       "      <td>23.710</td>\n",
       "    </tr>\n",
       "    <tr>\n",
       "      <th>50%</th>\n",
       "      <td>272.900</td>\n",
       "      <td>22.000</td>\n",
       "      <td>0.000</td>\n",
       "      <td>185.000</td>\n",
       "      <td>6.400</td>\n",
       "      <td>968.000</td>\n",
       "      <td>779.500</td>\n",
       "      <td>28.000</td>\n",
       "      <td>34.445</td>\n",
       "    </tr>\n",
       "    <tr>\n",
       "      <th>75%</th>\n",
       "      <td>350.000</td>\n",
       "      <td>142.950</td>\n",
       "      <td>118.300</td>\n",
       "      <td>192.000</td>\n",
       "      <td>10.200</td>\n",
       "      <td>1029.400</td>\n",
       "      <td>824.000</td>\n",
       "      <td>56.000</td>\n",
       "      <td>46.135</td>\n",
       "    </tr>\n",
       "    <tr>\n",
       "      <th>max</th>\n",
       "      <td>540.000</td>\n",
       "      <td>359.400</td>\n",
       "      <td>200.100</td>\n",
       "      <td>247.000</td>\n",
       "      <td>32.200</td>\n",
       "      <td>1145.000</td>\n",
       "      <td>992.600</td>\n",
       "      <td>365.000</td>\n",
       "      <td>82.600</td>\n",
       "    </tr>\n",
       "  </tbody>\n",
       "</table>\n",
       "</div>"
      ],
      "text/plain": [
       "        cement  bf_slag  fly_ash    water  superplasticizer  coarse_aggregate  \\\n",
       "count 1030.000 1030.000 1030.000 1030.000          1030.000          1030.000   \n",
       "mean   281.168   73.896   54.188  181.567             6.205           972.919   \n",
       "std    104.506   86.279   63.997   21.354             5.974            77.754   \n",
       "min    102.000    0.000    0.000  121.800             0.000           801.000   \n",
       "25%    192.375    0.000    0.000  164.900             0.000           932.000   \n",
       "50%    272.900   22.000    0.000  185.000             6.400           968.000   \n",
       "75%    350.000  142.950  118.300  192.000            10.200          1029.400   \n",
       "max    540.000  359.400  200.100  247.000            32.200          1145.000   \n",
       "\n",
       "       fine_aggregate      age  strength  \n",
       "count        1030.000 1030.000  1030.000  \n",
       "mean          773.580   45.662    35.818  \n",
       "std            80.176   63.170    16.706  \n",
       "min           594.000    1.000     2.330  \n",
       "25%           730.950    7.000    23.710  \n",
       "50%           779.500   28.000    34.445  \n",
       "75%           824.000   56.000    46.135  \n",
       "max           992.600  365.000    82.600  "
      ]
     },
     "execution_count": 5,
     "metadata": {},
     "output_type": "execute_result"
    }
   ],
   "source": [
    "df.describe()"
   ]
  },
  {
   "cell_type": "markdown",
   "id": "226f7f40",
   "metadata": {
    "papermill": {
     "duration": 0.017364,
     "end_time": "2023-08-09T15:08:21.526432",
     "exception": false,
     "start_time": "2023-08-09T15:08:21.509068",
     "status": "completed"
    },
    "tags": []
   },
   "source": [
    " <a id = '3'></a>    \n",
    "# [3 Preprocessing](#0)"
   ]
  },
  {
   "cell_type": "markdown",
   "id": "f431a994",
   "metadata": {
    "papermill": {
     "duration": 0.017426,
     "end_time": "2023-08-09T15:08:21.561405",
     "exception": false,
     "start_time": "2023-08-09T15:08:21.543979",
     "status": "completed"
    },
    "tags": []
   },
   "source": [
    "**A. Missing Values**"
   ]
  },
  {
   "cell_type": "code",
   "execution_count": 6,
   "id": "6134bcac",
   "metadata": {
    "execution": {
     "iopub.execute_input": "2023-08-09T15:08:21.599908Z",
     "iopub.status.busy": "2023-08-09T15:08:21.599133Z",
     "iopub.status.idle": "2023-08-09T15:08:21.609501Z",
     "shell.execute_reply": "2023-08-09T15:08:21.607823Z"
    },
    "papermill": {
     "duration": 0.034158,
     "end_time": "2023-08-09T15:08:21.612848",
     "exception": false,
     "start_time": "2023-08-09T15:08:21.578690",
     "status": "completed"
    },
    "tags": []
   },
   "outputs": [
    {
     "data": {
      "text/plain": [
       "cement              0\n",
       "bf_slag             0\n",
       "fly_ash             0\n",
       "water               0\n",
       "superplasticizer    0\n",
       "coarse_aggregate    0\n",
       "fine_aggregate      0\n",
       "age                 0\n",
       "strength            0\n",
       "dtype: int64"
      ]
     },
     "execution_count": 6,
     "metadata": {},
     "output_type": "execute_result"
    }
   ],
   "source": [
    "df.isna().sum()"
   ]
  },
  {
   "cell_type": "markdown",
   "id": "64138967",
   "metadata": {
    "papermill": {
     "duration": 0.018197,
     "end_time": "2023-08-09T15:08:21.649267",
     "exception": false,
     "start_time": "2023-08-09T15:08:21.631070",
     "status": "completed"
    },
    "tags": []
   },
   "source": [
    "**B. Duplicates**"
   ]
  },
  {
   "cell_type": "code",
   "execution_count": 7,
   "id": "c89cd1e7",
   "metadata": {
    "execution": {
     "iopub.execute_input": "2023-08-09T15:08:21.686740Z",
     "iopub.status.busy": "2023-08-09T15:08:21.686238Z",
     "iopub.status.idle": "2023-08-09T15:08:21.701457Z",
     "shell.execute_reply": "2023-08-09T15:08:21.700319Z"
    },
    "papermill": {
     "duration": 0.037154,
     "end_time": "2023-08-09T15:08:21.704002",
     "exception": false,
     "start_time": "2023-08-09T15:08:21.666848",
     "status": "completed"
    },
    "tags": []
   },
   "outputs": [
    {
     "data": {
      "text/plain": [
       "25"
      ]
     },
     "execution_count": 7,
     "metadata": {},
     "output_type": "execute_result"
    }
   ],
   "source": [
    "df.duplicated().sum()"
   ]
  },
  {
   "cell_type": "code",
   "execution_count": 8,
   "id": "53db7e5f",
   "metadata": {
    "execution": {
     "iopub.execute_input": "2023-08-09T15:08:21.742578Z",
     "iopub.status.busy": "2023-08-09T15:08:21.741475Z",
     "iopub.status.idle": "2023-08-09T15:08:21.753743Z",
     "shell.execute_reply": "2023-08-09T15:08:21.752099Z"
    },
    "papermill": {
     "duration": 0.035466,
     "end_time": "2023-08-09T15:08:21.756928",
     "exception": false,
     "start_time": "2023-08-09T15:08:21.721462",
     "status": "completed"
    },
    "tags": []
   },
   "outputs": [],
   "source": [
    "df = df.drop_duplicates()"
   ]
  },
  {
   "cell_type": "markdown",
   "id": "16f6fcb5",
   "metadata": {
    "papermill": {
     "duration": 0.017497,
     "end_time": "2023-08-09T15:08:21.792555",
     "exception": false,
     "start_time": "2023-08-09T15:08:21.775058",
     "status": "completed"
    },
    "tags": []
   },
   "source": [
    "**C. Accurate Values**"
   ]
  },
  {
   "cell_type": "code",
   "execution_count": 9,
   "id": "4bf5d0b8",
   "metadata": {
    "execution": {
     "iopub.execute_input": "2023-08-09T15:08:21.831536Z",
     "iopub.status.busy": "2023-08-09T15:08:21.829914Z",
     "iopub.status.idle": "2023-08-09T15:08:21.856142Z",
     "shell.execute_reply": "2023-08-09T15:08:21.854784Z"
    },
    "papermill": {
     "duration": 0.049819,
     "end_time": "2023-08-09T15:08:21.860147",
     "exception": false,
     "start_time": "2023-08-09T15:08:21.810328",
     "status": "completed"
    },
    "tags": []
   },
   "outputs": [
    {
     "name": "stdout",
     "output_type": "stream",
     "text": [
      "\n",
      "Feature: cement\n",
      "251.400    15\n",
      "446.000    14\n",
      "310.000    14\n",
      "331.000    13\n",
      "250.000    13\n",
      "           ..\n",
      "236.900     1\n",
      "184.000     1\n",
      "336.000     1\n",
      "260.000     1\n",
      "260.900     1\n",
      "Name: cement, Length: 278, dtype: int64\n",
      "\n",
      "Feature: bf_slag\n",
      "0.000      470\n",
      "189.000     16\n",
      "24.000      14\n",
      "20.000      12\n",
      "145.000     11\n",
      "          ... \n",
      "112.000      1\n",
      "17.600       1\n",
      "237.000      1\n",
      "120.000      1\n",
      "100.500      1\n",
      "Name: bf_slag, Length: 185, dtype: int64\n",
      "\n",
      "Feature: fly_ash\n",
      "0.000      541\n",
      "118.300     20\n",
      "141.000     16\n",
      "24.500      15\n",
      "79.000      14\n",
      "          ... \n",
      "87.000       1\n",
      "166.000      1\n",
      "133.000      1\n",
      "134.000      1\n",
      "78.300       1\n",
      "Name: fly_ash, Length: 156, dtype: int64\n",
      "\n",
      "Feature: water\n",
      "192.000    118\n",
      "228.000     54\n",
      "185.700     46\n",
      "203.500     36\n",
      "186.000     28\n",
      "          ... \n",
      "195.400      1\n",
      "211.500      1\n",
      "175.800      1\n",
      "200.300      1\n",
      "200.600      1\n",
      "Name: water, Length: 195, dtype: int64\n",
      "\n",
      "Feature: superplasticizer\n",
      "0.000     378\n",
      "8.000      27\n",
      "11.600     23\n",
      "7.000      19\n",
      "6.000      17\n",
      "         ... \n",
      "15.300      1\n",
      "20.000      1\n",
      "1.900       1\n",
      "4.000       1\n",
      "12.700      1\n",
      "Name: superplasticizer, Length: 111, dtype: int64\n",
      "\n",
      "Feature: coarse_aggregate\n",
      "932.000     57\n",
      "852.100     35\n",
      "968.000     29\n",
      "1125.000    24\n",
      "967.000     19\n",
      "            ..\n",
      "830.000      1\n",
      "949.000      1\n",
      "1061.000     1\n",
      "1031.000     1\n",
      "864.500      1\n",
      "Name: coarse_aggregate, Length: 284, dtype: int64\n",
      "\n",
      "Feature: fine_aggregate\n",
      "594.000    30\n",
      "670.000    23\n",
      "613.000    22\n",
      "755.800    16\n",
      "801.000    16\n",
      "           ..\n",
      "880.000     1\n",
      "762.000     1\n",
      "879.000     1\n",
      "713.000     1\n",
      "761.500     1\n",
      "Name: fine_aggregate, Length: 302, dtype: int64\n",
      "\n",
      "Feature: age\n",
      "28     419\n",
      "3      129\n",
      "7      122\n",
      "56      86\n",
      "14      62\n",
      "90      54\n",
      "100     52\n",
      "180     26\n",
      "91      17\n",
      "365     14\n",
      "270     13\n",
      "360      6\n",
      "120      3\n",
      "1        2\n",
      "Name: age, dtype: int64\n",
      "\n",
      "Feature: strength\n",
      "41.050    4\n",
      "33.400    4\n",
      "23.520    4\n",
      "31.350    4\n",
      "18.130    3\n",
      "         ..\n",
      "23.800    1\n",
      "38.770    1\n",
      "51.330    1\n",
      "56.850    1\n",
      "32.770    1\n",
      "Name: strength, Length: 845, dtype: int64\n"
     ]
    }
   ],
   "source": [
    "for feature in df.columns:\n",
    "    print(f'\\nFeature: {feature}\\n{df[feature].value_counts()}')"
   ]
  },
  {
   "cell_type": "markdown",
   "id": "581abcf5",
   "metadata": {
    "papermill": {
     "duration": 0.018154,
     "end_time": "2023-08-09T15:08:21.896696",
     "exception": false,
     "start_time": "2023-08-09T15:08:21.878542",
     "status": "completed"
    },
    "tags": []
   },
   "source": [
    "Features seem to have accurate values."
   ]
  },
  {
   "cell_type": "markdown",
   "id": "2111d188",
   "metadata": {
    "papermill": {
     "duration": 0.017893,
     "end_time": "2023-08-09T15:08:21.932997",
     "exception": false,
     "start_time": "2023-08-09T15:08:21.915104",
     "status": "completed"
    },
    "tags": []
   },
   "source": [
    "**D. Outliers Analysis**"
   ]
  },
  {
   "cell_type": "code",
   "execution_count": 10,
   "id": "40aca7df",
   "metadata": {
    "execution": {
     "iopub.execute_input": "2023-08-09T15:08:21.972805Z",
     "iopub.status.busy": "2023-08-09T15:08:21.972034Z",
     "iopub.status.idle": "2023-08-09T15:08:21.982355Z",
     "shell.execute_reply": "2023-08-09T15:08:21.981140Z"
    },
    "papermill": {
     "duration": 0.033178,
     "end_time": "2023-08-09T15:08:21.984887",
     "exception": false,
     "start_time": "2023-08-09T15:08:21.951709",
     "status": "completed"
    },
    "tags": []
   },
   "outputs": [
    {
     "data": {
      "text/plain": [
       "cement              0.565\n",
       "bf_slag             0.855\n",
       "fly_ash             0.497\n",
       "water               0.034\n",
       "superplasticizer    0.981\n",
       "coarse_aggregate   -0.065\n",
       "fine_aggregate     -0.252\n",
       "age                 3.254\n",
       "strength            0.396\n",
       "dtype: float64"
      ]
     },
     "execution_count": 10,
     "metadata": {},
     "output_type": "execute_result"
    }
   ],
   "source": [
    "## Skewness\n",
    "df.skew() "
   ]
  },
  {
   "cell_type": "markdown",
   "id": "5bcc9834",
   "metadata": {
    "papermill": {
     "duration": 0.018128,
     "end_time": "2023-08-09T15:08:22.021247",
     "exception": false,
     "start_time": "2023-08-09T15:08:22.003119",
     "status": "completed"
    },
    "tags": []
   },
   "source": [
    "**Feature skewness is under acceptable limits.**"
   ]
  },
  {
   "cell_type": "code",
   "execution_count": 11,
   "id": "9f0ce4c1",
   "metadata": {
    "execution": {
     "iopub.execute_input": "2023-08-09T15:08:22.061335Z",
     "iopub.status.busy": "2023-08-09T15:08:22.060536Z",
     "iopub.status.idle": "2023-08-09T15:08:22.093107Z",
     "shell.execute_reply": "2023-08-09T15:08:22.091027Z"
    },
    "papermill": {
     "duration": 0.056502,
     "end_time": "2023-08-09T15:08:22.096375",
     "exception": false,
     "start_time": "2023-08-09T15:08:22.039873",
     "status": "completed"
    },
    "tags": []
   },
   "outputs": [
    {
     "name": "stdout",
     "output_type": "stream",
     "text": [
      "No ofrows with outlier attributes:\t 76\n",
      "Percentage of rows with outlier attributes in dataset: 0.07562189054726368\n",
      "\n",
      " ================================================================================\n",
      "Feature wise outlier counts\n"
     ]
    },
    {
     "data": {
      "text/plain": [
       "{'cement': 0,\n",
       " 'bf_slag': 10,\n",
       " 'fly_ash': 0,\n",
       " 'water': 7,\n",
       " 'superplasticizer': 22,\n",
       " 'coarse_aggregate': 0,\n",
       " 'fine_aggregate': 5,\n",
       " 'age': 33,\n",
       " 'strength': 6}"
      ]
     },
     "execution_count": 11,
     "metadata": {},
     "output_type": "execute_result"
    }
   ],
   "source": [
    "## Let's identify outliers, beyond thereshold times the standard deviations from feature means\n",
    "\n",
    "from scipy import stats\n",
    "\n",
    "outlier_row_indices = set()\n",
    "outlier_features = dict()\n",
    "\n",
    "threshold = 2.68 #z-score limit to identify outliers\n",
    "\n",
    "for column in df.columns:\n",
    "    z_scores = stats.zscore(df[column])\n",
    "    outlier_row_indices.update(np.where(np.abs(z_scores) > threshold)[0])\n",
    "    outlier_features[column]=len(np.where(np.abs(z_scores) > threshold)[0])\n",
    "    \n",
    "print('No ofrows with outlier attributes:\\t',len(outlier_row_indices))\n",
    "print('Percentage of rows with outlier attributes in dataset:',len(outlier_row_indices)/ df.shape[0])\n",
    "print('\\n', '='*80)\n",
    "print('Feature wise outlier counts')\n",
    "outlier_features"
   ]
  },
  {
   "cell_type": "markdown",
   "id": "9de00885",
   "metadata": {
    "papermill": {
     "duration": 0.017961,
     "end_time": "2023-08-09T15:08:22.133399",
     "exception": false,
     "start_time": "2023-08-09T15:08:22.115438",
     "status": "completed"
    },
    "tags": []
   },
   "source": [
    "**~7% of rows have outlier attributes. Although numerically these featre values are outliers, they do in fact represent real world concrete mixing proportions. I'll instead perform feature scaling to reduce the effects of outliers.**"
   ]
  },
  {
   "cell_type": "markdown",
   "id": "c2e7ccdf",
   "metadata": {
    "papermill": {
     "duration": 0.018522,
     "end_time": "2023-08-09T15:08:22.170286",
     "exception": false,
     "start_time": "2023-08-09T15:08:22.151764",
     "status": "completed"
    },
    "tags": []
   },
   "source": [
    "**E. Feature Engineering**\n",
    "\n",
    "Lets gain some domain understanding before proceeding further.\n",
    "\n",
    ">- **Water to Cement ratio** has an inverse relationship with concrete strength. Typically, cement component has to be higher for increased concrete strength. [link to publication on sciencedirect.com](https://www.sciencedirect.com/science/article/abs/pii/S2352710215300231#:~:text=The%20Abram's%20law%20developed%20for,c%20ratio%20of%200.3%E2%80%931.20.)\n",
    ">- **Blast furnace slag + fly ash** increases concrete strength upto a point [Hamadallah Al-Baijat, Mohmd Sarireh] [link to publication on scirp.org journal](https://www.scirp.org/journal/paperinformation.aspx?paperid=92237#:~:text=The%20use%20of%20fine%20blast%20furnace%20slag%20(BFS)%20is%20widely,especially%20the%20late%20age%20strength.)\n",
    ">- **Superplasticisers** are commonly used to improve the workability and reduces the need for water. They increase density and to improve the surface finish of the concrete product [R. Kebao, D. Kagi, in Modern Earth Buildings, 2012] [link to publication on sciencedirect.com](https://www.sciencedirect.com/science/article/abs/pii/B9780857090263500101)\n",
    ">- [Link to additional material on researchgate.net](https://www.researchgate.net/publication/292433543_Prediction_of_strength_of_fly_Ash_and_Slag_concrete_by_the_use_of_artificial_neural_networks)"
   ]
  },
  {
   "cell_type": "markdown",
   "id": "487746b1",
   "metadata": {
    "papermill": {
     "duration": 0.01803,
     "end_time": "2023-08-09T15:08:22.207186",
     "exception": false,
     "start_time": "2023-08-09T15:08:22.189156",
     "status": "completed"
    },
    "tags": []
   },
   "source": [
    "**Now that we've gained some understanding about feature relationships, let's create features for our model.**"
   ]
  },
  {
   "cell_type": "markdown",
   "id": "a4ff8ea1",
   "metadata": {
    "_kg_hide-input": true,
    "_kg_hide-output": true,
    "execution": {
     "iopub.execute_input": "2023-07-10T15:30:24.701768Z",
     "iopub.status.busy": "2023-07-10T15:30:24.700893Z",
     "iopub.status.idle": "2023-07-10T15:30:24.714547Z",
     "shell.execute_reply": "2023-07-10T15:30:24.713551Z",
     "shell.execute_reply.started": "2023-07-10T15:30:24.701743Z"
    },
    "papermill": {
     "duration": 0.019414,
     "end_time": "2023-08-09T15:08:22.247264",
     "exception": false,
     "start_time": "2023-08-09T15:08:22.227850",
     "status": "completed"
    },
    "tags": []
   },
   "source": [
    "df['water_cement_ratio']     = df['water']/df['cement']\n",
    "df['slag_ash_mix']           = df['bf_slag'] + df['fly_ash']\n",
    "df['water_fineagg_ratio']    = df['water']/df['fine_aggregate']\n",
    "df['cement_fineagg_ratio']   = df['cement']/df['fine_aggregate']\n",
    "df['cement_coarseagg_ratio'] = df['cement']/df['coarse_aggregate']\n",
    "df['coarse_fine_agg_ratio']  = df['coarse_aggregate']/df['fine_aggregate']\n",
    "df['log_strength']           = np.log(df['strength'])\n",
    "df['log10_strength']           = np.log10(df['strength'])"
   ]
  },
  {
   "cell_type": "markdown",
   "id": "3079ab56",
   "metadata": {
    "papermill": {
     "duration": 0.018831,
     "end_time": "2023-08-09T15:08:22.285252",
     "exception": false,
     "start_time": "2023-08-09T15:08:22.266421",
     "status": "completed"
    },
    "tags": []
   },
   "source": [
    "**Now that we have some features ready, lets dive into EDA.**"
   ]
  },
  {
   "cell_type": "markdown",
   "id": "f25422cc",
   "metadata": {
    "papermill": {
     "duration": 0.018504,
     "end_time": "2023-08-09T15:08:22.322839",
     "exception": false,
     "start_time": "2023-08-09T15:08:22.304335",
     "status": "completed"
    },
    "tags": []
   },
   "source": [
    "\n",
    "<a id = '4'></a>\n",
    "# [4 Exploratory Data Analysis](#0)"
   ]
  },
  {
   "cell_type": "markdown",
   "id": "03005091",
   "metadata": {
    "papermill": {
     "duration": 0.018695,
     "end_time": "2023-08-09T15:08:22.360468",
     "exception": false,
     "start_time": "2023-08-09T15:08:22.341773",
     "status": "completed"
    },
    "tags": []
   },
   "source": [
    "**4.1 Univariate Analysis**"
   ]
  },
  {
   "cell_type": "code",
   "execution_count": 12,
   "id": "77cfaf35",
   "metadata": {
    "execution": {
     "iopub.execute_input": "2023-08-09T15:08:22.400859Z",
     "iopub.status.busy": "2023-08-09T15:08:22.400115Z",
     "iopub.status.idle": "2023-08-09T15:08:26.841232Z",
     "shell.execute_reply": "2023-08-09T15:08:26.839895Z"
    },
    "papermill": {
     "duration": 4.465459,
     "end_time": "2023-08-09T15:08:26.844960",
     "exception": false,
     "start_time": "2023-08-09T15:08:22.379501",
     "status": "completed"
    },
    "tags": []
   },
   "outputs": [
    {
     "data": {
      "image/png": "[encoded data removed]",
      "text/plain": [
       "<Figure size 1500x800 with 9 Axes>"
      ]
     },
     "metadata": {},
     "output_type": "display_data"
    }
   ],
   "source": [
    "df.hist()\n",
    "plt.tight_layout();"
   ]
  },
  {
   "cell_type": "code",
   "execution_count": 13,
   "id": "51b95938",
   "metadata": {
    "execution": {
     "iopub.execute_input": "2023-08-09T15:08:26.893194Z",
     "iopub.status.busy": "2023-08-09T15:08:26.892699Z",
     "iopub.status.idle": "2023-08-09T15:08:26.900903Z",
     "shell.execute_reply": "2023-08-09T15:08:26.899571Z"
    },
    "papermill": {
     "duration": 0.037269,
     "end_time": "2023-08-09T15:08:26.903658",
     "exception": false,
     "start_time": "2023-08-09T15:08:26.866389",
     "status": "completed"
    },
    "tags": []
   },
   "outputs": [
    {
     "data": {
      "text/plain": [
       "(1005, 9)"
      ]
     },
     "execution_count": 13,
     "metadata": {},
     "output_type": "execute_result"
    }
   ],
   "source": [
    "df.shape"
   ]
  },
  {
   "cell_type": "markdown",
   "id": "ac9a7710",
   "metadata": {
    "papermill": {
     "duration": 0.01993,
     "end_time": "2023-08-09T15:08:26.944055",
     "exception": false,
     "start_time": "2023-08-09T15:08:26.924125",
     "status": "completed"
    },
    "tags": []
   },
   "source": [
    "**Minimum **"
   ]
  },
  {
   "cell_type": "markdown",
   "id": "a3202976",
   "metadata": {
    "execution": {
     "iopub.execute_input": "2023-07-10T15:30:29.922692Z",
     "iopub.status.busy": "2023-07-10T15:30:29.921827Z",
     "iopub.status.idle": "2023-07-10T15:30:29.948595Z",
     "shell.execute_reply": "2023-07-10T15:30:29.947719Z",
     "shell.execute_reply.started": "2023-07-10T15:30:29.922656Z"
    },
    "papermill": {
     "duration": 0.019492,
     "end_time": "2023-08-09T15:08:26.983973",
     "exception": false,
     "start_time": "2023-08-09T15:08:26.964481",
     "status": "completed"
    },
    "tags": []
   },
   "source": [
    "df[df['water_cement_ratio'] < 1/2]"
   ]
  },
  {
   "cell_type": "markdown",
   "id": "e9e240f5",
   "metadata": {
    "execution": {
     "iopub.execute_input": "2023-07-10T15:30:29.953613Z",
     "iopub.status.busy": "2023-07-10T15:30:29.951899Z",
     "iopub.status.idle": "2023-07-10T15:30:30.784929Z",
     "shell.execute_reply": "2023-07-10T15:30:30.784026Z",
     "shell.execute_reply.started": "2023-07-10T15:30:29.953588Z"
    },
    "papermill": {
     "duration": 0.019754,
     "end_time": "2023-08-09T15:08:27.023351",
     "exception": false,
     "start_time": "2023-08-09T15:08:27.003597",
     "status": "completed"
    },
    "tags": []
   },
   "source": [
    "plt.figure(figsize = (2,4))\n",
    "df[df['water_cement_ratio'] < 1/2][['strength', 'superplasticizer']].hist();"
   ]
  },
  {
   "cell_type": "markdown",
   "id": "4caca81e",
   "metadata": {
    "papermill": {
     "duration": 0.019894,
     "end_time": "2023-08-09T15:08:27.063565",
     "exception": false,
     "start_time": "2023-08-09T15:08:27.043671",
     "status": "completed"
    },
    "tags": []
   },
   "source": [
    "**Analysis**\n",
    ">- There are some outlier values in `age` and `superplasticizer` features which may represent some extreme testing parameters. Neural Networks can typically overcome this problem for a relatively simple dataset as this.\n",
    ">- A large number of `bf_slag` and `fly ash` features have zero values, which implies some concrete samples are devoid of this additives. From the information we've gathered from external research, we understand that these compoents are necessary for increasing concrete strength. "
   ]
  },
  {
   "cell_type": "markdown",
   "id": "302d632d",
   "metadata": {
    "execution": {
     "iopub.execute_input": "2023-08-09T11:04:40.198915Z",
     "iopub.status.busy": "2023-08-09T11:04:40.198381Z",
     "iopub.status.idle": "2023-08-09T11:04:41.561750Z",
     "shell.execute_reply": "2023-08-09T11:04:41.560077Z",
     "shell.execute_reply.started": "2023-08-09T11:04:40.198882Z"
    },
    "papermill": {
     "duration": 0.019556,
     "end_time": "2023-08-09T15:08:27.104037",
     "exception": false,
     "start_time": "2023-08-09T15:08:27.084481",
     "status": "completed"
    },
    "tags": []
   },
   "source": [
    "df[df['water_cement_ratio'] < 1/2][['strength', 'superplasticizer']].corr()"
   ]
  },
  {
   "cell_type": "markdown",
   "id": "a0103cdf",
   "metadata": {
    "execution": {
     "iopub.status.busy": "2023-08-09T11:04:41.562686Z",
     "iopub.status.idle": "2023-08-09T11:04:41.563106Z",
     "shell.execute_reply": "2023-08-09T11:04:41.562933Z",
     "shell.execute_reply.started": "2023-08-09T11:04:41.562912Z"
    },
    "papermill": {
     "duration": 0.01945,
     "end_time": "2023-08-09T15:08:27.143176",
     "exception": false,
     "start_time": "2023-08-09T15:08:27.123726",
     "status": "completed"
    },
    "tags": []
   },
   "source": [
    "sns.pairplot(df[df['water_cement_ratio'] < 1/2][['strength', 'superplasticizer']],\n",
    "            diag_kind = 'kde',  kind = 'reg'\n",
    "            );\n",
    "\n",
    "\n",
    "\n",
    "#sns.lmplot(x='superplasticizer', y='strength',\n",
    "#           data=df[(df['water_cement_ratio'] < 1/2) & (df['superplasticizer'] > 0)], scatter_kws={'alpha':0.3})\n"
   ]
  },
  {
   "cell_type": "markdown",
   "id": "895100f9",
   "metadata": {
    "papermill": {
     "duration": 0.019283,
     "end_time": "2023-08-09T15:08:27.182250",
     "exception": false,
     "start_time": "2023-08-09T15:08:27.162967",
     "status": "completed"
    },
    "tags": []
   },
   "source": [
    "Holding all else constant, **it was proven that strength of concrete increases with amount of superplasticizers,** (ref: papers shared in feature engineering section) due to increase in density and compaction. While there is a general positive correlation between the two features, the strength of correlation is not that high due to variability of other features, within the dataset and external confounding features."
   ]
  },
  {
   "cell_type": "markdown",
   "id": "7b44c4c2",
   "metadata": {
    "papermill": {
     "duration": 0.019389,
     "end_time": "2023-08-09T15:08:27.221806",
     "exception": false,
     "start_time": "2023-08-09T15:08:27.202417",
     "status": "completed"
    },
    "tags": []
   },
   "source": [
    "**4.2 Bivariate Analysis**"
   ]
  },
  {
   "cell_type": "code",
   "execution_count": 14,
   "id": "9e46c7ae",
   "metadata": {
    "execution": {
     "iopub.execute_input": "2023-08-09T15:08:27.265946Z",
     "iopub.status.busy": "2023-08-09T15:08:27.265442Z",
     "iopub.status.idle": "2023-08-09T15:08:28.866757Z",
     "shell.execute_reply": "2023-08-09T15:08:28.865291Z"
    },
    "papermill": {
     "duration": 1.627963,
     "end_time": "2023-08-09T15:08:28.870010",
     "exception": false,
     "start_time": "2023-08-09T15:08:27.242047",
     "status": "completed"
    },
    "tags": []
   },
   "outputs": [
    {
     "data": {
      "image/png": "[encoded data removed]",
      "text/plain": [
       "<Figure size 800x400 with 2 Axes>"
      ]
     },
     "metadata": {},
     "output_type": "display_data"
    },
    {
     "data": {
      "text/plain": [
       "<Figure size 1500x800 with 0 Axes>"
      ]
     },
     "metadata": {},
     "output_type": "display_data"
    },
    {
     "data": {
      "image/png": "[encoded data removed]",
      "text/plain": [
       "<Figure size 800x400 with 2 Axes>"
      ]
     },
     "metadata": {},
     "output_type": "display_data"
    },
    {
     "data": {
      "text/plain": [
       "<Figure size 1500x800 with 0 Axes>"
      ]
     },
     "metadata": {},
     "output_type": "display_data"
    }
   ],
   "source": [
    "## Customizable correlaton heatmap function with Spearman and Pearson Correlation Coefficients\n",
    "\n",
    "def corr_map(df, title, method='spearman', numeric_only = True, tick_size = 10, annot_size=8, annot_kws=8):\n",
    "    mask = np.triu(np.ones_like(df.corr(numeric_only=numeric_only), dtype=bool))\n",
    "    heatmap = sns.heatmap(df.corr(method=method, numeric_only = numeric_only), fmt = '.2f',  annot = True, annot_kws = {'size': annot_kws}, mask=mask, cmap='BrBG')#\n",
    "    plt.xticks(rotation=80, fontsize= tick_size)\n",
    "    plt.yticks( fontsize= tick_size)\n",
    "\n",
    "    heatmap.set_title(title, fontdict={'fontsize':annot_size}, pad=12)\n",
    "    plt.show();\n",
    "    \n",
    "plt.figure(figsize=(8,4))\n",
    "corr_map(df, 'Feature Correlation Strengths, Spearman', method='spearman')\n",
    "plt.savefig('Concrete Strength - Spearman Correlation.png')\n",
    "\n",
    "plt.figure(figsize=(8,4))\n",
    "corr_map(df, 'Feature Correlation Strengths, Pearson', method='pearson')\n",
    "plt.savefig('Concrete Strength - Pearson Correlation.png');"
   ]
  },
  {
   "cell_type": "markdown",
   "id": "823e7324",
   "metadata": {
    "papermill": {
     "duration": 0.023651,
     "end_time": "2023-08-09T15:08:28.917337",
     "exception": false,
     "start_time": "2023-08-09T15:08:28.893686",
     "status": "completed"
    },
    "tags": []
   },
   "source": [
    "**Abrams' Law is a widely recognized empirical relationship** that estimates the compressive strength of concrete based on the water-cement ratio. The relationship is typically expressed as follows:\n",
    "\n",
    "`S = K * (W/C)^n`\n",
    "\n",
    "where:\n",
    "- S is the compressive strength of concrete,\n",
    "- W/C is the water-cement ratio,\n",
    "- K and n are empirical constants.\n",
    "\n",
    "The values of K and n can vary depending on several factors, including the type of cement, aggregate, and curing conditions. However, commonly used values for K and n in Abrams' Law are:\n",
    "\n",
    "- K: Typically ranges from 20 to 40 for normal strength concrete.\n",
    "- n: Typically ranges from 0.5 to 0.7 for normal strength concrete.\n",
    "- W/C: Abram’s law holds good ratio over a range of w/c ratio of 0.3 to 1.20"
   ]
  },
  {
   "cell_type": "markdown",
   "id": "485a3639",
   "metadata": {
    "papermill": {
     "duration": 0.022957,
     "end_time": "2023-08-09T15:08:28.963768",
     "exception": false,
     "start_time": "2023-08-09T15:08:28.940811",
     "status": "completed"
    },
    "tags": []
   },
   "source": [
    "**Correlation Analysis:**\n",
    ">- **`water` and `superplasticizer` inversely related**, from the domain understanding. In this dataset, it is confirmed to be true with a -0.67 spearman correlation coeffiient. Superplasticizer improves workability, and desity of concrete.\n",
    ">- **`superplastcizer` and `strength`** are positively correlated. \n",
    ">- Addition of **`cement` definitely increases concrete `strength`**, which is evident from the correlation heatmap.\n",
    ">- **`water` and `fine_aggregate`:** The amount of water (which is added to the mix) is decided after evaluating the moisture content which is present in the fine aggregate materials. The suitable moisture condition of an aggregate can be categorized into different moisture conditions which are, Oven Dry, Air-Dry, Saturated-Surface Dry, and Wet. It makes sense that these feaatures are inversely correlated.\n",
    ">- **Fly ash typically improves modulus of elasticity and workability of concrete.** While it induces undesirable creep, i is negligible upto 15% fly ash component. As such, it is **used along with `superplasticizer` and is strongly, positively correlated** and **inversely correlated with `water`** content.\n",
    ">- Modification in the mechanical strength by increase in later age strength and durability properties by increase of the concrete was observed with the addition of fly ash and superplasticizer in control mix. We will recheck this during multivariate analysis.\n",
    ">- At constant W/C ratio, `coarse_aggregate` increases `strength`. But suchb a relation is not visible from the correlation heatmap. We will check this.\n"
   ]
  },
  {
   "cell_type": "markdown",
   "id": "1e3dc265",
   "metadata": {
    "execution": {
     "iopub.execute_input": "2023-08-09T11:05:16.401249Z",
     "iopub.status.busy": "2023-08-09T11:05:16.400796Z",
     "iopub.status.idle": "2023-08-09T11:05:16.654214Z",
     "shell.execute_reply": "2023-08-09T11:05:16.651790Z",
     "shell.execute_reply.started": "2023-08-09T11:05:16.401218Z"
    },
    "papermill": {
     "duration": 0.023194,
     "end_time": "2023-08-09T15:08:29.010559",
     "exception": false,
     "start_time": "2023-08-09T15:08:28.987365",
     "status": "completed"
    },
    "tags": []
   },
   "source": [
    "sns.regplot(df, x = 'log_strength', y = 'water_cement_ratio');"
   ]
  },
  {
   "cell_type": "markdown",
   "id": "ebeae5a5",
   "metadata": {
    "execution": {
     "iopub.execute_input": "2023-08-09T11:05:17.241443Z",
     "iopub.status.busy": "2023-08-09T11:05:17.241027Z"
    },
    "papermill": {
     "duration": 0.022907,
     "end_time": "2023-08-09T15:08:29.057344",
     "exception": false,
     "start_time": "2023-08-09T15:08:29.034437",
     "status": "completed"
    },
    "tags": []
   },
   "source": [
    "g = sns.pairplot(df, kind = 'reg')\n",
    "g.map_upper(sns.kdeplot, levels = 6, alpha = 0.8, fill = True)\n",
    "plt.suptitle('Feature pairplots', y = 1)\n",
    "\n",
    "plt.savefig('Feature pairplots.png')\n",
    "plt.tight_layout()\n",
    "plt.show();"
   ]
  },
  {
   "cell_type": "markdown",
   "id": "0d5ac7e5",
   "metadata": {
    "papermill": {
     "duration": 0.023098,
     "end_time": "2023-08-09T15:08:29.103747",
     "exception": false,
     "start_time": "2023-08-09T15:08:29.080649",
     "status": "completed"
    },
    "tags": []
   },
   "source": [
    "**While projecting n-dimensional data onto a 2-dimensional plane may not give us the best analyses, We can definitely see some linearity among the original independent features. This confirms our earlier analyses that addition or removal of certain concrete components are correlated.**"
   ]
  },
  {
   "cell_type": "markdown",
   "id": "d86f9cb0",
   "metadata": {
    "papermill": {
     "duration": 0.023355,
     "end_time": "2023-08-09T15:08:29.151131",
     "exception": false,
     "start_time": "2023-08-09T15:08:29.127776",
     "status": "completed"
    },
    "tags": []
   },
   "source": [
    "\n",
    "<a id = '5'></a>\n",
    "# [5 Model Training and Performance](#0)\n"
   ]
  },
  {
   "cell_type": "markdown",
   "id": "da4eeecf",
   "metadata": {
    "papermill": {
     "duration": 0.022939,
     "end_time": "2023-08-09T15:08:29.197265",
     "exception": false,
     "start_time": "2023-08-09T15:08:29.174326",
     "status": "completed"
    },
    "tags": []
   },
   "source": [
    "<a id = '5.1'></a>\n",
    "# [5.1 Feature Selection](#0)"
   ]
  },
  {
   "cell_type": "code",
   "execution_count": 15,
   "id": "a9fda492",
   "metadata": {
    "execution": {
     "iopub.execute_input": "2023-08-09T15:08:29.252920Z",
     "iopub.status.busy": "2023-08-09T15:08:29.252481Z",
     "iopub.status.idle": "2023-08-09T15:08:29.268144Z",
     "shell.execute_reply": "2023-08-09T15:08:29.267247Z"
    },
    "papermill": {
     "duration": 0.048147,
     "end_time": "2023-08-09T15:08:29.270390",
     "exception": false,
     "start_time": "2023-08-09T15:08:29.222243",
     "status": "completed"
    },
    "tags": []
   },
   "outputs": [
    {
     "data": {
      "text/html": [
       "<div>\n",
       "<style scoped>\n",
       "    .dataframe tbody tr th:only-of-type {\n",
       "        vertical-align: middle;\n",
       "    }\n",
       "\n",
       "    .dataframe tbody tr th {\n",
       "        vertical-align: top;\n",
       "    }\n",
       "\n",
       "    .dataframe thead th {\n",
       "        text-align: right;\n",
       "    }\n",
       "</style>\n",
       "<table border=\"1\" class=\"dataframe\">\n",
       "  <thead>\n",
       "    <tr style=\"text-align: right;\">\n",
       "      <th></th>\n",
       "      <th>cement</th>\n",
       "      <th>bf_slag</th>\n",
       "      <th>fly_ash</th>\n",
       "      <th>water</th>\n",
       "      <th>superplasticizer</th>\n",
       "      <th>coarse_aggregate</th>\n",
       "      <th>fine_aggregate</th>\n",
       "      <th>age</th>\n",
       "      <th>strength</th>\n",
       "    </tr>\n",
       "  </thead>\n",
       "  <tbody>\n",
       "    <tr>\n",
       "      <th>0</th>\n",
       "      <td>540.000</td>\n",
       "      <td>0.000</td>\n",
       "      <td>0.000</td>\n",
       "      <td>162.000</td>\n",
       "      <td>2.500</td>\n",
       "      <td>1040.000</td>\n",
       "      <td>676.000</td>\n",
       "      <td>28</td>\n",
       "      <td>79.990</td>\n",
       "    </tr>\n",
       "    <tr>\n",
       "      <th>1</th>\n",
       "      <td>540.000</td>\n",
       "      <td>0.000</td>\n",
       "      <td>0.000</td>\n",
       "      <td>162.000</td>\n",
       "      <td>2.500</td>\n",
       "      <td>1055.000</td>\n",
       "      <td>676.000</td>\n",
       "      <td>28</td>\n",
       "      <td>61.890</td>\n",
       "    </tr>\n",
       "    <tr>\n",
       "      <th>2</th>\n",
       "      <td>332.500</td>\n",
       "      <td>142.500</td>\n",
       "      <td>0.000</td>\n",
       "      <td>228.000</td>\n",
       "      <td>0.000</td>\n",
       "      <td>932.000</td>\n",
       "      <td>594.000</td>\n",
       "      <td>270</td>\n",
       "      <td>40.270</td>\n",
       "    </tr>\n",
       "    <tr>\n",
       "      <th>3</th>\n",
       "      <td>332.500</td>\n",
       "      <td>142.500</td>\n",
       "      <td>0.000</td>\n",
       "      <td>228.000</td>\n",
       "      <td>0.000</td>\n",
       "      <td>932.000</td>\n",
       "      <td>594.000</td>\n",
       "      <td>365</td>\n",
       "      <td>41.050</td>\n",
       "    </tr>\n",
       "    <tr>\n",
       "      <th>4</th>\n",
       "      <td>198.600</td>\n",
       "      <td>132.400</td>\n",
       "      <td>0.000</td>\n",
       "      <td>192.000</td>\n",
       "      <td>0.000</td>\n",
       "      <td>978.400</td>\n",
       "      <td>825.500</td>\n",
       "      <td>360</td>\n",
       "      <td>44.300</td>\n",
       "    </tr>\n",
       "  </tbody>\n",
       "</table>\n",
       "</div>"
      ],
      "text/plain": [
       "   cement  bf_slag  fly_ash   water  superplasticizer  coarse_aggregate  \\\n",
       "0 540.000    0.000    0.000 162.000             2.500          1040.000   \n",
       "1 540.000    0.000    0.000 162.000             2.500          1055.000   \n",
       "2 332.500  142.500    0.000 228.000             0.000           932.000   \n",
       "3 332.500  142.500    0.000 228.000             0.000           932.000   \n",
       "4 198.600  132.400    0.000 192.000             0.000           978.400   \n",
       "\n",
       "   fine_aggregate  age  strength  \n",
       "0         676.000   28    79.990  \n",
       "1         676.000   28    61.890  \n",
       "2         594.000  270    40.270  \n",
       "3         594.000  365    41.050  \n",
       "4         825.500  360    44.300  "
      ]
     },
     "execution_count": 15,
     "metadata": {},
     "output_type": "execute_result"
    }
   ],
   "source": [
    "df.head()"
   ]
  },
  {
   "cell_type": "markdown",
   "id": "4a28211c",
   "metadata": {
    "execution": {
     "iopub.execute_input": "2023-07-10T15:35:10.116285Z",
     "iopub.status.busy": "2023-07-10T15:35:10.115559Z",
     "iopub.status.idle": "2023-07-10T15:35:10.126916Z",
     "shell.execute_reply": "2023-07-10T15:35:10.126113Z",
     "shell.execute_reply.started": "2023-07-10T15:35:10.116254Z"
    },
    "papermill": {
     "duration": 0.023459,
     "end_time": "2023-08-09T15:08:29.317537",
     "exception": false,
     "start_time": "2023-08-09T15:08:29.294078",
     "status": "completed"
    },
    "tags": []
   },
   "source": [
    "[](http://)## We will ignore slag_ash_mix featres since it is a linearly dependent feature\n",
    "features_1 = ['cement', 'bf_slag', 'fly_ash', 'water', 'superplasticizer',\n",
    "              'coarse_aggregate', 'fine_aggregate', 'age']\n",
    "features_2 = ['water_cement_ratio', 'water_fineagg_ratio',\n",
    "              'cement_fineagg_ratio', 'cement_coarseagg_ratio',\n",
    "              'coarse_fine_agg_ratio']\n",
    "target = ['strength']"
   ]
  },
  {
   "cell_type": "markdown",
   "id": "c1914564",
   "metadata": {
    "execution": {
     "iopub.execute_input": "2023-07-10T15:35:10.128636Z",
     "iopub.status.busy": "2023-07-10T15:35:10.128062Z",
     "iopub.status.idle": "2023-07-10T15:35:10.148643Z",
     "shell.execute_reply": "2023-07-10T15:35:10.147789Z",
     "shell.execute_reply.started": "2023-07-10T15:35:10.128605Z"
    },
    "papermill": {
     "duration": 0.024921,
     "end_time": "2023-08-09T15:08:29.367735",
     "exception": false,
     "start_time": "2023-08-09T15:08:29.342814",
     "status": "completed"
    },
    "tags": []
   },
   "source": [
    "## Normalizing feature grourp 1 to their z-score values\n",
    "df[features_1]  = (df[features_1] - df[features_1].mean())/df[features_1].std()"
   ]
  },
  {
   "cell_type": "markdown",
   "id": "96fefe4d",
   "metadata": {
    "papermill": {
     "duration": 0.023304,
     "end_time": "2023-08-09T15:08:29.414856",
     "exception": false,
     "start_time": "2023-08-09T15:08:29.391552",
     "status": "completed"
    },
    "tags": []
   },
   "source": [
    "<a id = '5.2'></a>\n",
    "# [5.2 Building the Neural Network](#0)"
   ]
  },
  {
   "cell_type": "code",
   "execution_count": 16,
   "id": "6cdb8051",
   "metadata": {
    "execution": {
     "iopub.execute_input": "2023-08-09T15:08:29.464634Z",
     "iopub.status.busy": "2023-08-09T15:08:29.464215Z",
     "iopub.status.idle": "2023-08-09T15:08:41.216077Z",
     "shell.execute_reply": "2023-08-09T15:08:41.214506Z"
    },
    "papermill": {
     "duration": 11.78119,
     "end_time": "2023-08-09T15:08:41.219694",
     "exception": false,
     "start_time": "2023-08-09T15:08:29.438504",
     "status": "completed"
    },
    "tags": []
   },
   "outputs": [],
   "source": [
    "## Keras and Tensorflow\n",
    "import tensorflow as tf\n",
    "import tensorflow.keras as keras\n",
    "from keras.models import Sequential\n",
    "from keras.layers import Dense\n",
    "\n",
    "from keras.utils import plot_model"
   ]
  },
  {
   "cell_type": "code",
   "execution_count": 17,
   "id": "6158d9d1",
   "metadata": {
    "execution": {
     "iopub.execute_input": "2023-08-09T15:08:41.271215Z",
     "iopub.status.busy": "2023-08-09T15:08:41.269932Z",
     "iopub.status.idle": "2023-08-09T15:08:42.400943Z",
     "shell.execute_reply": "2023-08-09T15:08:42.399130Z"
    },
    "papermill": {
     "duration": 1.160191,
     "end_time": "2023-08-09T15:08:42.404074",
     "exception": false,
     "start_time": "2023-08-09T15:08:41.243883",
     "status": "completed"
    },
    "tags": []
   },
   "outputs": [
    {
     "data": {
      "image/png": "[encoded data removed]",
      "text/plain": [
       "<IPython.core.display.Image object>"
      ]
     },
     "execution_count": 17,
     "metadata": {},
     "output_type": "execute_result"
    }
   ],
   "source": [
    "ncols = df.shape[1]-1\n",
    "\n",
    "from tensorflow.keras.optimizers import RMSprop\n",
    "from tensorflow.keras.metrics import MeanSquaredError\n",
    "\n",
    "rmsprop = RMSprop()\n",
    "\n",
    "df_num = np.array(df)\n",
    "\n",
    "df_normalizer = tf.keras.layers.Normalization(input_shape=[8,], axis=None)\n",
    "df_normalizer.adapt(df_num)\n",
    "\n",
    "def nn_regression(ncols = ncols):\n",
    "    model = Sequential()\n",
    "    model.add(df_normalizer)\n",
    "    model.add(Dense(100, activation = 'relu', input_shape = (ncols, 1)))\n",
    "    model.add(Dense(25, activation = 'relu'))\n",
    "    model.add(Dense(25, activation = 'relu'))\n",
    "    model.add(Dense(1))\n",
    "    \n",
    "    ## Compile model\n",
    "    model.compile(optimizer = 'rmsprop', loss = 'mean_squared_error', metrics = ['mean_squared_error'])\n",
    "    \n",
    "    return model\n",
    "\n",
    "model = nn_regression()\n",
    "\n",
    "plot_model(model, to_file = 'neural_network_regression.png', show_layer_activations=True,\n",
    "            show_trainable=True, show_shapes=True, show_layer_names=True)"
   ]
  },
  {
   "cell_type": "markdown",
   "id": "7b348831",
   "metadata": {
    "papermill": {
     "duration": 0.023366,
     "end_time": "2023-08-09T15:08:42.451345",
     "exception": false,
     "start_time": "2023-08-09T15:08:42.427979",
     "status": "completed"
    },
    "tags": []
   },
   "source": [
    "<a id = '5.3'></a>\n",
    "# [5.3 Training the Neural Network](#0)"
   ]
  },
  {
   "cell_type": "code",
   "execution_count": 18,
   "id": "8fbb6941",
   "metadata": {
    "execution": {
     "iopub.execute_input": "2023-08-09T15:08:42.503521Z",
     "iopub.status.busy": "2023-08-09T15:08:42.502989Z",
     "iopub.status.idle": "2023-08-09T15:08:42.512221Z",
     "shell.execute_reply": "2023-08-09T15:08:42.511184Z"
    },
    "papermill": {
     "duration": 0.039756,
     "end_time": "2023-08-09T15:08:42.515024",
     "exception": false,
     "start_time": "2023-08-09T15:08:42.475268",
     "status": "completed"
    },
    "tags": []
   },
   "outputs": [],
   "source": [
    "class myCallbacks(tf.keras.callbacks.Callback):\n",
    "    def on_epoch_end(self, epoch, logs={}):\n",
    "        if (logs.get('val_accuracy') is not None and logs.get('val_accuracy') >= 0.85):\n",
    "            print('\\nReached 85% validation accuracy, terminating training')\n",
    "            self.model.stop_training = True\n",
    "  \n",
    "from tensorflow.keras.callbacks import EarlyStopping\n",
    "early_stopping = EarlyStopping(monitor=\"mean_squared_error\", patience = 15)"
   ]
  },
  {
   "cell_type": "code",
   "execution_count": 19,
   "id": "f789f98e",
   "metadata": {
    "execution": {
     "iopub.execute_input": "2023-08-09T15:08:42.568517Z",
     "iopub.status.busy": "2023-08-09T15:08:42.566870Z",
     "iopub.status.idle": "2023-08-09T15:09:32.197964Z",
     "shell.execute_reply": "2023-08-09T15:09:32.196293Z"
    },
    "papermill": {
     "duration": 49.659522,
     "end_time": "2023-08-09T15:09:32.200728",
     "exception": false,
     "start_time": "2023-08-09T15:08:42.541206",
     "status": "completed"
    },
    "tags": []
   },
   "outputs": [
    {
     "name": "stdout",
     "output_type": "stream",
     "text": [
      "CPU times: user 4 µs, sys: 0 ns, total: 4 µs\n",
      "Wall time: 9.3 µs\n",
      "Epoch 1/400\n",
      "71/71 - 1s - loss: 1015.8881 - mean_squared_error: 1015.8881 - val_loss: 206.9873 - val_mean_squared_error: 206.9873 - 1s/epoch - 20ms/step\n",
      "Epoch 2/400\n",
      "71/71 - 0s - loss: 309.0997 - mean_squared_error: 309.0997 - val_loss: 193.4128 - val_mean_squared_error: 193.4128 - 221ms/epoch - 3ms/step\n",
      "Epoch 3/400\n",
      "71/71 - 0s - loss: 292.6709 - mean_squared_error: 292.6709 - val_loss: 175.9232 - val_mean_squared_error: 175.9232 - 210ms/epoch - 3ms/step\n",
      "Epoch 4/400\n",
      "71/71 - 0s - loss: 279.7568 - mean_squared_error: 279.7568 - val_loss: 176.9284 - val_mean_squared_error: 176.9284 - 230ms/epoch - 3ms/step\n",
      "Epoch 5/400\n",
      "71/71 - 0s - loss: 263.6888 - mean_squared_error: 263.6888 - val_loss: 160.1223 - val_mean_squared_error: 160.1223 - 232ms/epoch - 3ms/step\n",
      "Epoch 6/400\n",
      "71/71 - 0s - loss: 248.7590 - mean_squared_error: 248.7590 - val_loss: 156.6327 - val_mean_squared_error: 156.6327 - 232ms/epoch - 3ms/step\n",
      "Epoch 7/400\n",
      "71/71 - 0s - loss: 236.0021 - mean_squared_error: 236.0021 - val_loss: 153.9449 - val_mean_squared_error: 153.9449 - 217ms/epoch - 3ms/step\n",
      "Epoch 8/400\n",
      "71/71 - 0s - loss: 227.4347 - mean_squared_error: 227.4347 - val_loss: 166.4561 - val_mean_squared_error: 166.4561 - 215ms/epoch - 3ms/step\n",
      "Epoch 9/400\n",
      "71/71 - 0s - loss: 219.7282 - mean_squared_error: 219.7282 - val_loss: 166.4521 - val_mean_squared_error: 166.4521 - 225ms/epoch - 3ms/step\n",
      "Epoch 10/400\n",
      "71/71 - 0s - loss: 210.8483 - mean_squared_error: 210.8483 - val_loss: 162.2404 - val_mean_squared_error: 162.2404 - 220ms/epoch - 3ms/step\n",
      "Epoch 11/400\n",
      "71/71 - 0s - loss: 206.1548 - mean_squared_error: 206.1548 - val_loss: 163.0338 - val_mean_squared_error: 163.0338 - 222ms/epoch - 3ms/step\n",
      "Epoch 12/400\n",
      "71/71 - 0s - loss: 198.5348 - mean_squared_error: 198.5348 - val_loss: 147.4073 - val_mean_squared_error: 147.4073 - 236ms/epoch - 3ms/step\n",
      "Epoch 13/400\n",
      "71/71 - 0s - loss: 194.9834 - mean_squared_error: 194.9834 - val_loss: 159.1088 - val_mean_squared_error: 159.1088 - 222ms/epoch - 3ms/step\n",
      "Epoch 14/400\n",
      "71/71 - 0s - loss: 187.9311 - mean_squared_error: 187.9311 - val_loss: 143.1532 - val_mean_squared_error: 143.1532 - 235ms/epoch - 3ms/step\n",
      "Epoch 15/400\n",
      "71/71 - 0s - loss: 181.7283 - mean_squared_error: 181.7283 - val_loss: 174.9911 - val_mean_squared_error: 174.9911 - 221ms/epoch - 3ms/step\n",
      "Epoch 16/400\n",
      "71/71 - 0s - loss: 174.5944 - mean_squared_error: 174.5944 - val_loss: 137.3829 - val_mean_squared_error: 137.3829 - 219ms/epoch - 3ms/step\n",
      "Epoch 17/400\n",
      "71/71 - 0s - loss: 170.2614 - mean_squared_error: 170.2614 - val_loss: 146.9670 - val_mean_squared_error: 146.9670 - 210ms/epoch - 3ms/step\n",
      "Epoch 18/400\n",
      "71/71 - 0s - loss: 161.8411 - mean_squared_error: 161.8411 - val_loss: 131.6977 - val_mean_squared_error: 131.6977 - 220ms/epoch - 3ms/step\n",
      "Epoch 19/400\n",
      "71/71 - 0s - loss: 156.8494 - mean_squared_error: 156.8494 - val_loss: 129.8555 - val_mean_squared_error: 129.8555 - 231ms/epoch - 3ms/step\n",
      "Epoch 20/400\n",
      "71/71 - 0s - loss: 150.3533 - mean_squared_error: 150.3533 - val_loss: 134.7697 - val_mean_squared_error: 134.7697 - 220ms/epoch - 3ms/step\n",
      "Epoch 21/400\n",
      "71/71 - 0s - loss: 145.2214 - mean_squared_error: 145.2214 - val_loss: 118.3620 - val_mean_squared_error: 118.3620 - 219ms/epoch - 3ms/step\n",
      "Epoch 22/400\n",
      "71/71 - 0s - loss: 139.5570 - mean_squared_error: 139.5570 - val_loss: 118.0067 - val_mean_squared_error: 118.0067 - 223ms/epoch - 3ms/step\n",
      "Epoch 23/400\n",
      "71/71 - 0s - loss: 137.3344 - mean_squared_error: 137.3344 - val_loss: 119.3704 - val_mean_squared_error: 119.3704 - 219ms/epoch - 3ms/step\n",
      "Epoch 24/400\n",
      "71/71 - 0s - loss: 133.4059 - mean_squared_error: 133.4059 - val_loss: 155.8167 - val_mean_squared_error: 155.8167 - 214ms/epoch - 3ms/step\n",
      "Epoch 25/400\n",
      "71/71 - 0s - loss: 130.2751 - mean_squared_error: 130.2751 - val_loss: 151.7844 - val_mean_squared_error: 151.7844 - 206ms/epoch - 3ms/step\n",
      "Epoch 26/400\n",
      "71/71 - 0s - loss: 129.1781 - mean_squared_error: 129.1781 - val_loss: 123.5238 - val_mean_squared_error: 123.5238 - 234ms/epoch - 3ms/step\n",
      "Epoch 27/400\n",
      "71/71 - 0s - loss: 124.4335 - mean_squared_error: 124.4335 - val_loss: 107.5956 - val_mean_squared_error: 107.5956 - 227ms/epoch - 3ms/step\n",
      "Epoch 28/400\n",
      "71/71 - 0s - loss: 122.4580 - mean_squared_error: 122.4580 - val_loss: 109.7167 - val_mean_squared_error: 109.7167 - 215ms/epoch - 3ms/step\n",
      "Epoch 29/400\n",
      "71/71 - 0s - loss: 121.3031 - mean_squared_error: 121.3031 - val_loss: 105.5021 - val_mean_squared_error: 105.5021 - 209ms/epoch - 3ms/step\n",
      "Epoch 30/400\n",
      "71/71 - 0s - loss: 119.5695 - mean_squared_error: 119.5695 - val_loss: 102.5819 - val_mean_squared_error: 102.5819 - 220ms/epoch - 3ms/step\n",
      "Epoch 31/400\n",
      "71/71 - 0s - loss: 118.2488 - mean_squared_error: 118.2488 - val_loss: 100.2116 - val_mean_squared_error: 100.2116 - 224ms/epoch - 3ms/step\n",
      "Epoch 32/400\n",
      "71/71 - 0s - loss: 117.5765 - mean_squared_error: 117.5765 - val_loss: 118.4158 - val_mean_squared_error: 118.4158 - 226ms/epoch - 3ms/step\n",
      "Epoch 33/400\n",
      "71/71 - 0s - loss: 115.6431 - mean_squared_error: 115.6431 - val_loss: 100.7671 - val_mean_squared_error: 100.7671 - 218ms/epoch - 3ms/step\n",
      "Epoch 34/400\n",
      "71/71 - 0s - loss: 112.4926 - mean_squared_error: 112.4926 - val_loss: 100.2943 - val_mean_squared_error: 100.2943 - 226ms/epoch - 3ms/step\n",
      "Epoch 35/400\n",
      "71/71 - 0s - loss: 112.8045 - mean_squared_error: 112.8045 - val_loss: 117.1837 - val_mean_squared_error: 117.1837 - 213ms/epoch - 3ms/step\n",
      "Epoch 36/400\n",
      "71/71 - 0s - loss: 111.4547 - mean_squared_error: 111.4547 - val_loss: 100.0030 - val_mean_squared_error: 100.0030 - 206ms/epoch - 3ms/step\n",
      "Epoch 37/400\n",
      "71/71 - 0s - loss: 112.2579 - mean_squared_error: 112.2579 - val_loss: 112.1447 - val_mean_squared_error: 112.1447 - 231ms/epoch - 3ms/step\n",
      "Epoch 38/400\n",
      "71/71 - 0s - loss: 108.4370 - mean_squared_error: 108.4370 - val_loss: 94.3534 - val_mean_squared_error: 94.3534 - 213ms/epoch - 3ms/step\n",
      "Epoch 39/400\n",
      "71/71 - 0s - loss: 107.8595 - mean_squared_error: 107.8595 - val_loss: 90.3903 - val_mean_squared_error: 90.3903 - 204ms/epoch - 3ms/step\n",
      "Epoch 40/400\n",
      "71/71 - 0s - loss: 106.0820 - mean_squared_error: 106.0820 - val_loss: 94.6945 - val_mean_squared_error: 94.6945 - 214ms/epoch - 3ms/step\n",
      "Epoch 41/400\n",
      "71/71 - 0s - loss: 105.0099 - mean_squared_error: 105.0099 - val_loss: 122.4616 - val_mean_squared_error: 122.4616 - 234ms/epoch - 3ms/step\n",
      "Epoch 42/400\n",
      "71/71 - 0s - loss: 104.2440 - mean_squared_error: 104.2440 - val_loss: 90.8766 - val_mean_squared_error: 90.8766 - 229ms/epoch - 3ms/step\n",
      "Epoch 43/400\n",
      "71/71 - 0s - loss: 102.5397 - mean_squared_error: 102.5397 - val_loss: 98.8153 - val_mean_squared_error: 98.8153 - 213ms/epoch - 3ms/step\n",
      "Epoch 44/400\n",
      "71/71 - 0s - loss: 99.8260 - mean_squared_error: 99.8260 - val_loss: 101.4869 - val_mean_squared_error: 101.4869 - 214ms/epoch - 3ms/step\n",
      "Epoch 45/400\n",
      "71/71 - 0s - loss: 100.0539 - mean_squared_error: 100.0539 - val_loss: 94.9994 - val_mean_squared_error: 94.9994 - 261ms/epoch - 4ms/step\n",
      "Epoch 46/400\n",
      "71/71 - 0s - loss: 97.3045 - mean_squared_error: 97.3045 - val_loss: 108.5475 - val_mean_squared_error: 108.5475 - 226ms/epoch - 3ms/step\n",
      "Epoch 47/400\n",
      "71/71 - 0s - loss: 95.7314 - mean_squared_error: 95.7314 - val_loss: 96.1567 - val_mean_squared_error: 96.1567 - 212ms/epoch - 3ms/step\n",
      "Epoch 48/400\n",
      "71/71 - 0s - loss: 92.6591 - mean_squared_error: 92.6591 - val_loss: 126.8166 - val_mean_squared_error: 126.8166 - 220ms/epoch - 3ms/step\n",
      "Epoch 49/400\n",
      "71/71 - 0s - loss: 92.7550 - mean_squared_error: 92.7550 - val_loss: 88.8024 - val_mean_squared_error: 88.8024 - 236ms/epoch - 3ms/step\n",
      "Epoch 50/400\n",
      "71/71 - 0s - loss: 91.4765 - mean_squared_error: 91.4765 - val_loss: 102.6131 - val_mean_squared_error: 102.6131 - 218ms/epoch - 3ms/step\n",
      "Epoch 51/400\n",
      "71/71 - 0s - loss: 89.5165 - mean_squared_error: 89.5165 - val_loss: 95.1267 - val_mean_squared_error: 95.1267 - 230ms/epoch - 3ms/step\n",
      "Epoch 52/400\n",
      "71/71 - 0s - loss: 89.4933 - mean_squared_error: 89.4933 - val_loss: 101.2850 - val_mean_squared_error: 101.2850 - 227ms/epoch - 3ms/step\n",
      "Epoch 53/400\n",
      "71/71 - 0s - loss: 86.9381 - mean_squared_error: 86.9381 - val_loss: 87.0173 - val_mean_squared_error: 87.0173 - 217ms/epoch - 3ms/step\n",
      "Epoch 54/400\n",
      "71/71 - 0s - loss: 85.3997 - mean_squared_error: 85.3997 - val_loss: 90.5561 - val_mean_squared_error: 90.5561 - 221ms/epoch - 3ms/step\n",
      "Epoch 55/400\n",
      "71/71 - 0s - loss: 84.6343 - mean_squared_error: 84.6343 - val_loss: 90.5493 - val_mean_squared_error: 90.5493 - 226ms/epoch - 3ms/step\n",
      "Epoch 56/400\n",
      "71/71 - 0s - loss: 82.6542 - mean_squared_error: 82.6542 - val_loss: 104.0896 - val_mean_squared_error: 104.0896 - 222ms/epoch - 3ms/step\n",
      "Epoch 57/400\n",
      "71/71 - 0s - loss: 81.4400 - mean_squared_error: 81.4400 - val_loss: 132.2141 - val_mean_squared_error: 132.2141 - 247ms/epoch - 3ms/step\n",
      "Epoch 58/400\n",
      "71/71 - 0s - loss: 78.6956 - mean_squared_error: 78.6956 - val_loss: 82.2244 - val_mean_squared_error: 82.2244 - 223ms/epoch - 3ms/step\n",
      "Epoch 59/400\n",
      "71/71 - 0s - loss: 77.5987 - mean_squared_error: 77.5987 - val_loss: 132.1260 - val_mean_squared_error: 132.1260 - 240ms/epoch - 3ms/step\n",
      "Epoch 60/400\n",
      "71/71 - 0s - loss: 79.4919 - mean_squared_error: 79.4919 - val_loss: 118.6673 - val_mean_squared_error: 118.6673 - 225ms/epoch - 3ms/step\n",
      "Epoch 61/400\n",
      "71/71 - 0s - loss: 78.2917 - mean_squared_error: 78.2917 - val_loss: 77.9192 - val_mean_squared_error: 77.9192 - 233ms/epoch - 3ms/step\n",
      "Epoch 62/400\n",
      "71/71 - 0s - loss: 76.0131 - mean_squared_error: 76.0131 - val_loss: 90.3209 - val_mean_squared_error: 90.3209 - 242ms/epoch - 3ms/step\n",
      "Epoch 63/400\n",
      "71/71 - 0s - loss: 75.5279 - mean_squared_error: 75.5279 - val_loss: 90.8615 - val_mean_squared_error: 90.8615 - 232ms/epoch - 3ms/step\n",
      "Epoch 64/400\n",
      "71/71 - 0s - loss: 72.1799 - mean_squared_error: 72.1799 - val_loss: 106.2129 - val_mean_squared_error: 106.2129 - 224ms/epoch - 3ms/step\n",
      "Epoch 65/400\n",
      "71/71 - 0s - loss: 72.0797 - mean_squared_error: 72.0797 - val_loss: 102.2355 - val_mean_squared_error: 102.2355 - 226ms/epoch - 3ms/step\n",
      "Epoch 66/400\n",
      "71/71 - 0s - loss: 75.1508 - mean_squared_error: 75.1508 - val_loss: 80.2051 - val_mean_squared_error: 80.2051 - 239ms/epoch - 3ms/step\n",
      "Epoch 67/400\n",
      "71/71 - 0s - loss: 70.7061 - mean_squared_error: 70.7061 - val_loss: 83.7647 - val_mean_squared_error: 83.7647 - 228ms/epoch - 3ms/step\n",
      "Epoch 68/400\n",
      "71/71 - 0s - loss: 70.3552 - mean_squared_error: 70.3552 - val_loss: 91.8212 - val_mean_squared_error: 91.8212 - 218ms/epoch - 3ms/step\n",
      "Epoch 69/400\n",
      "71/71 - 0s - loss: 70.3743 - mean_squared_error: 70.3743 - val_loss: 115.4091 - val_mean_squared_error: 115.4091 - 214ms/epoch - 3ms/step\n",
      "Epoch 70/400\n",
      "71/71 - 0s - loss: 69.7740 - mean_squared_error: 69.7740 - val_loss: 88.3197 - val_mean_squared_error: 88.3197 - 249ms/epoch - 4ms/step\n",
      "Epoch 71/400\n",
      "71/71 - 0s - loss: 68.1637 - mean_squared_error: 68.1637 - val_loss: 75.9459 - val_mean_squared_error: 75.9459 - 241ms/epoch - 3ms/step\n",
      "Epoch 72/400\n",
      "71/71 - 0s - loss: 68.2666 - mean_squared_error: 68.2666 - val_loss: 78.1516 - val_mean_squared_error: 78.1516 - 229ms/epoch - 3ms/step\n",
      "Epoch 73/400\n",
      "71/71 - 0s - loss: 68.7090 - mean_squared_error: 68.7090 - val_loss: 127.7476 - val_mean_squared_error: 127.7476 - 231ms/epoch - 3ms/step\n",
      "Epoch 74/400\n",
      "71/71 - 0s - loss: 67.0769 - mean_squared_error: 67.0769 - val_loss: 76.3849 - val_mean_squared_error: 76.3849 - 251ms/epoch - 4ms/step\n",
      "Epoch 75/400\n",
      "71/71 - 0s - loss: 67.3088 - mean_squared_error: 67.3088 - val_loss: 94.8204 - val_mean_squared_error: 94.8204 - 244ms/epoch - 3ms/step\n",
      "Epoch 76/400\n",
      "71/71 - 0s - loss: 66.1693 - mean_squared_error: 66.1693 - val_loss: 76.9414 - val_mean_squared_error: 76.9414 - 225ms/epoch - 3ms/step\n",
      "Epoch 77/400\n",
      "71/71 - 0s - loss: 66.2371 - mean_squared_error: 66.2371 - val_loss: 78.7163 - val_mean_squared_error: 78.7163 - 205ms/epoch - 3ms/step\n",
      "Epoch 78/400\n",
      "71/71 - 0s - loss: 66.9090 - mean_squared_error: 66.9090 - val_loss: 120.2618 - val_mean_squared_error: 120.2618 - 221ms/epoch - 3ms/step\n",
      "Epoch 79/400\n",
      "71/71 - 0s - loss: 65.8895 - mean_squared_error: 65.8895 - val_loss: 71.4710 - val_mean_squared_error: 71.4710 - 247ms/epoch - 3ms/step\n",
      "Epoch 80/400\n",
      "71/71 - 0s - loss: 65.9956 - mean_squared_error: 65.9956 - val_loss: 77.3846 - val_mean_squared_error: 77.3846 - 235ms/epoch - 3ms/step\n",
      "Epoch 81/400\n",
      "71/71 - 0s - loss: 64.6165 - mean_squared_error: 64.6165 - val_loss: 75.0960 - val_mean_squared_error: 75.0960 - 233ms/epoch - 3ms/step\n",
      "Epoch 82/400\n",
      "71/71 - 0s - loss: 62.0615 - mean_squared_error: 62.0615 - val_loss: 71.1418 - val_mean_squared_error: 71.1418 - 228ms/epoch - 3ms/step\n",
      "Epoch 83/400\n",
      "71/71 - 0s - loss: 62.5226 - mean_squared_error: 62.5226 - val_loss: 73.6742 - val_mean_squared_error: 73.6742 - 245ms/epoch - 3ms/step\n",
      "Epoch 84/400\n",
      "71/71 - 0s - loss: 63.3223 - mean_squared_error: 63.3223 - val_loss: 99.2321 - val_mean_squared_error: 99.2321 - 233ms/epoch - 3ms/step\n",
      "Epoch 85/400\n",
      "71/71 - 0s - loss: 63.0036 - mean_squared_error: 63.0036 - val_loss: 76.6107 - val_mean_squared_error: 76.6107 - 222ms/epoch - 3ms/step\n",
      "Epoch 86/400\n",
      "71/71 - 0s - loss: 60.9380 - mean_squared_error: 60.9380 - val_loss: 75.9910 - val_mean_squared_error: 75.9910 - 226ms/epoch - 3ms/step\n",
      "Epoch 87/400\n",
      "71/71 - 0s - loss: 62.9644 - mean_squared_error: 62.9644 - val_loss: 77.2582 - val_mean_squared_error: 77.2582 - 220ms/epoch - 3ms/step\n",
      "Epoch 88/400\n",
      "71/71 - 0s - loss: 61.1840 - mean_squared_error: 61.1840 - val_loss: 63.7933 - val_mean_squared_error: 63.7933 - 257ms/epoch - 4ms/step\n",
      "Epoch 89/400\n",
      "71/71 - 0s - loss: 61.4303 - mean_squared_error: 61.4303 - val_loss: 71.6759 - val_mean_squared_error: 71.6759 - 247ms/epoch - 3ms/step\n",
      "Epoch 90/400\n",
      "71/71 - 0s - loss: 58.7161 - mean_squared_error: 58.7161 - val_loss: 87.8783 - val_mean_squared_error: 87.8783 - 233ms/epoch - 3ms/step\n",
      "Epoch 91/400\n",
      "71/71 - 0s - loss: 59.6666 - mean_squared_error: 59.6666 - val_loss: 70.3877 - val_mean_squared_error: 70.3877 - 226ms/epoch - 3ms/step\n",
      "Epoch 92/400\n",
      "71/71 - 0s - loss: 58.5149 - mean_squared_error: 58.5149 - val_loss: 68.4140 - val_mean_squared_error: 68.4140 - 224ms/epoch - 3ms/step\n",
      "Epoch 93/400\n",
      "71/71 - 0s - loss: 58.5512 - mean_squared_error: 58.5512 - val_loss: 67.3305 - val_mean_squared_error: 67.3305 - 223ms/epoch - 3ms/step\n",
      "Epoch 94/400\n",
      "71/71 - 0s - loss: 60.1363 - mean_squared_error: 60.1363 - val_loss: 83.4480 - val_mean_squared_error: 83.4480 - 228ms/epoch - 3ms/step\n",
      "Epoch 95/400\n",
      "71/71 - 0s - loss: 57.2966 - mean_squared_error: 57.2966 - val_loss: 81.6776 - val_mean_squared_error: 81.6776 - 223ms/epoch - 3ms/step\n",
      "Epoch 96/400\n",
      "71/71 - 0s - loss: 56.6949 - mean_squared_error: 56.6949 - val_loss: 65.3492 - val_mean_squared_error: 65.3492 - 236ms/epoch - 3ms/step\n",
      "Epoch 97/400\n",
      "71/71 - 0s - loss: 56.7773 - mean_squared_error: 56.7773 - val_loss: 107.6480 - val_mean_squared_error: 107.6480 - 225ms/epoch - 3ms/step\n",
      "Epoch 98/400\n",
      "71/71 - 0s - loss: 57.9616 - mean_squared_error: 57.9616 - val_loss: 85.4664 - val_mean_squared_error: 85.4664 - 226ms/epoch - 3ms/step\n",
      "Epoch 99/400\n",
      "71/71 - 0s - loss: 56.7210 - mean_squared_error: 56.7210 - val_loss: 99.0839 - val_mean_squared_error: 99.0839 - 217ms/epoch - 3ms/step\n",
      "Epoch 100/400\n",
      "71/71 - 0s - loss: 58.5591 - mean_squared_error: 58.5591 - val_loss: 65.8851 - val_mean_squared_error: 65.8851 - 226ms/epoch - 3ms/step\n",
      "Epoch 101/400\n",
      "71/71 - 0s - loss: 58.5411 - mean_squared_error: 58.5411 - val_loss: 58.6664 - val_mean_squared_error: 58.6664 - 229ms/epoch - 3ms/step\n",
      "Epoch 102/400\n",
      "71/71 - 0s - loss: 56.7530 - mean_squared_error: 56.7530 - val_loss: 61.9301 - val_mean_squared_error: 61.9301 - 220ms/epoch - 3ms/step\n",
      "Epoch 103/400\n",
      "71/71 - 0s - loss: 58.1175 - mean_squared_error: 58.1175 - val_loss: 59.5641 - val_mean_squared_error: 59.5641 - 215ms/epoch - 3ms/step\n",
      "Epoch 104/400\n",
      "71/71 - 0s - loss: 55.7678 - mean_squared_error: 55.7678 - val_loss: 128.0130 - val_mean_squared_error: 128.0130 - 204ms/epoch - 3ms/step\n",
      "Epoch 105/400\n",
      "71/71 - 0s - loss: 56.8778 - mean_squared_error: 56.8778 - val_loss: 55.5180 - val_mean_squared_error: 55.5180 - 223ms/epoch - 3ms/step\n",
      "Epoch 106/400\n",
      "71/71 - 0s - loss: 54.2804 - mean_squared_error: 54.2804 - val_loss: 63.3541 - val_mean_squared_error: 63.3541 - 224ms/epoch - 3ms/step\n",
      "Epoch 107/400\n",
      "71/71 - 0s - loss: 54.2860 - mean_squared_error: 54.2860 - val_loss: 57.2561 - val_mean_squared_error: 57.2561 - 222ms/epoch - 3ms/step\n",
      "Epoch 108/400\n",
      "71/71 - 0s - loss: 53.0314 - mean_squared_error: 53.0314 - val_loss: 68.3420 - val_mean_squared_error: 68.3420 - 224ms/epoch - 3ms/step\n",
      "Epoch 109/400\n",
      "71/71 - 0s - loss: 52.6479 - mean_squared_error: 52.6479 - val_loss: 60.2941 - val_mean_squared_error: 60.2941 - 212ms/epoch - 3ms/step\n",
      "Epoch 110/400\n",
      "71/71 - 0s - loss: 55.5857 - mean_squared_error: 55.5857 - val_loss: 72.0427 - val_mean_squared_error: 72.0427 - 208ms/epoch - 3ms/step\n",
      "Epoch 111/400\n",
      "71/71 - 0s - loss: 54.0864 - mean_squared_error: 54.0864 - val_loss: 63.6659 - val_mean_squared_error: 63.6659 - 221ms/epoch - 3ms/step\n",
      "Epoch 112/400\n",
      "71/71 - 0s - loss: 55.8122 - mean_squared_error: 55.8122 - val_loss: 105.4173 - val_mean_squared_error: 105.4173 - 211ms/epoch - 3ms/step\n",
      "Epoch 113/400\n",
      "71/71 - 0s - loss: 52.4376 - mean_squared_error: 52.4376 - val_loss: 81.3292 - val_mean_squared_error: 81.3292 - 223ms/epoch - 3ms/step\n",
      "Epoch 114/400\n",
      "71/71 - 0s - loss: 53.1633 - mean_squared_error: 53.1633 - val_loss: 65.6291 - val_mean_squared_error: 65.6291 - 228ms/epoch - 3ms/step\n",
      "Epoch 115/400\n",
      "71/71 - 0s - loss: 52.5746 - mean_squared_error: 52.5746 - val_loss: 56.6438 - val_mean_squared_error: 56.6438 - 214ms/epoch - 3ms/step\n",
      "Epoch 116/400\n",
      "71/71 - 0s - loss: 52.2561 - mean_squared_error: 52.2561 - val_loss: 83.6048 - val_mean_squared_error: 83.6048 - 225ms/epoch - 3ms/step\n",
      "Epoch 117/400\n",
      "71/71 - 0s - loss: 52.4352 - mean_squared_error: 52.4352 - val_loss: 57.6546 - val_mean_squared_error: 57.6546 - 222ms/epoch - 3ms/step\n",
      "Epoch 118/400\n",
      "71/71 - 0s - loss: 51.7768 - mean_squared_error: 51.7768 - val_loss: 62.3926 - val_mean_squared_error: 62.3926 - 233ms/epoch - 3ms/step\n",
      "Epoch 119/400\n",
      "71/71 - 0s - loss: 52.8055 - mean_squared_error: 52.8054 - val_loss: 62.0461 - val_mean_squared_error: 62.0461 - 247ms/epoch - 3ms/step\n",
      "Epoch 120/400\n",
      "71/71 - 0s - loss: 50.5048 - mean_squared_error: 50.5048 - val_loss: 69.7595 - val_mean_squared_error: 69.7595 - 248ms/epoch - 3ms/step\n",
      "Epoch 121/400\n",
      "71/71 - 0s - loss: 51.7372 - mean_squared_error: 51.7372 - val_loss: 53.2473 - val_mean_squared_error: 53.2473 - 268ms/epoch - 4ms/step\n",
      "Epoch 122/400\n",
      "71/71 - 0s - loss: 52.3792 - mean_squared_error: 52.3792 - val_loss: 58.0816 - val_mean_squared_error: 58.0816 - 226ms/epoch - 3ms/step\n",
      "Epoch 123/400\n",
      "71/71 - 0s - loss: 51.8076 - mean_squared_error: 51.8076 - val_loss: 51.9491 - val_mean_squared_error: 51.9491 - 234ms/epoch - 3ms/step\n",
      "Epoch 124/400\n",
      "71/71 - 0s - loss: 50.2899 - mean_squared_error: 50.2899 - val_loss: 61.3488 - val_mean_squared_error: 61.3488 - 227ms/epoch - 3ms/step\n",
      "Epoch 125/400\n",
      "71/71 - 0s - loss: 50.2311 - mean_squared_error: 50.2311 - val_loss: 52.2598 - val_mean_squared_error: 52.2598 - 233ms/epoch - 3ms/step\n",
      "Epoch 126/400\n",
      "71/71 - 0s - loss: 52.8988 - mean_squared_error: 52.8988 - val_loss: 54.2432 - val_mean_squared_error: 54.2432 - 214ms/epoch - 3ms/step\n",
      "Epoch 127/400\n",
      "71/71 - 0s - loss: 50.5968 - mean_squared_error: 50.5968 - val_loss: 57.0986 - val_mean_squared_error: 57.0986 - 236ms/epoch - 3ms/step\n",
      "Epoch 128/400\n",
      "71/71 - 0s - loss: 50.5738 - mean_squared_error: 50.5738 - val_loss: 76.0148 - val_mean_squared_error: 76.0148 - 232ms/epoch - 3ms/step\n",
      "Epoch 129/400\n",
      "71/71 - 0s - loss: 51.8079 - mean_squared_error: 51.8079 - val_loss: 53.3871 - val_mean_squared_error: 53.3871 - 234ms/epoch - 3ms/step\n",
      "Epoch 130/400\n",
      "71/71 - 0s - loss: 50.5695 - mean_squared_error: 50.5695 - val_loss: 83.5987 - val_mean_squared_error: 83.5987 - 222ms/epoch - 3ms/step\n",
      "Epoch 131/400\n",
      "71/71 - 0s - loss: 49.9636 - mean_squared_error: 49.9636 - val_loss: 50.4377 - val_mean_squared_error: 50.4377 - 263ms/epoch - 4ms/step\n",
      "Epoch 132/400\n",
      "71/71 - 0s - loss: 53.2496 - mean_squared_error: 53.2496 - val_loss: 71.5936 - val_mean_squared_error: 71.5936 - 233ms/epoch - 3ms/step\n",
      "Epoch 133/400\n",
      "71/71 - 0s - loss: 50.5062 - mean_squared_error: 50.5062 - val_loss: 61.5936 - val_mean_squared_error: 61.5936 - 226ms/epoch - 3ms/step\n",
      "Epoch 134/400\n",
      "71/71 - 0s - loss: 48.8951 - mean_squared_error: 48.8951 - val_loss: 64.0643 - val_mean_squared_error: 64.0643 - 218ms/epoch - 3ms/step\n",
      "Epoch 135/400\n",
      "71/71 - 0s - loss: 52.4002 - mean_squared_error: 52.4002 - val_loss: 54.3899 - val_mean_squared_error: 54.3899 - 231ms/epoch - 3ms/step\n",
      "Epoch 136/400\n",
      "71/71 - 0s - loss: 48.7076 - mean_squared_error: 48.7076 - val_loss: 80.2676 - val_mean_squared_error: 80.2676 - 234ms/epoch - 3ms/step\n",
      "Epoch 137/400\n",
      "71/71 - 0s - loss: 49.1758 - mean_squared_error: 49.1758 - val_loss: 50.4794 - val_mean_squared_error: 50.4794 - 213ms/epoch - 3ms/step\n",
      "Epoch 138/400\n",
      "71/71 - 0s - loss: 49.6058 - mean_squared_error: 49.6058 - val_loss: 64.8851 - val_mean_squared_error: 64.8851 - 252ms/epoch - 4ms/step\n",
      "Epoch 139/400\n",
      "71/71 - 0s - loss: 51.3224 - mean_squared_error: 51.3224 - val_loss: 49.9729 - val_mean_squared_error: 49.9729 - 236ms/epoch - 3ms/step\n",
      "Epoch 140/400\n",
      "71/71 - 0s - loss: 50.4496 - mean_squared_error: 50.4496 - val_loss: 73.2993 - val_mean_squared_error: 73.2993 - 232ms/epoch - 3ms/step\n",
      "Epoch 141/400\n",
      "71/71 - 0s - loss: 49.9031 - mean_squared_error: 49.9031 - val_loss: 73.7060 - val_mean_squared_error: 73.7060 - 223ms/epoch - 3ms/step\n",
      "Epoch 142/400\n",
      "71/71 - 0s - loss: 50.1151 - mean_squared_error: 50.1151 - val_loss: 47.1590 - val_mean_squared_error: 47.1590 - 226ms/epoch - 3ms/step\n",
      "Epoch 143/400\n",
      "71/71 - 0s - loss: 50.2736 - mean_squared_error: 50.2736 - val_loss: 52.5525 - val_mean_squared_error: 52.5525 - 214ms/epoch - 3ms/step\n",
      "Epoch 144/400\n",
      "71/71 - 0s - loss: 47.5926 - mean_squared_error: 47.5926 - val_loss: 84.9790 - val_mean_squared_error: 84.9790 - 210ms/epoch - 3ms/step\n",
      "Epoch 145/400\n",
      "71/71 - 0s - loss: 49.9969 - mean_squared_error: 49.9969 - val_loss: 50.7170 - val_mean_squared_error: 50.7170 - 218ms/epoch - 3ms/step\n",
      "Epoch 146/400\n",
      "71/71 - 0s - loss: 47.7205 - mean_squared_error: 47.7205 - val_loss: 54.9118 - val_mean_squared_error: 54.9118 - 212ms/epoch - 3ms/step\n",
      "Epoch 147/400\n",
      "71/71 - 0s - loss: 48.8374 - mean_squared_error: 48.8374 - val_loss: 60.1759 - val_mean_squared_error: 60.1759 - 209ms/epoch - 3ms/step\n",
      "Epoch 148/400\n",
      "71/71 - 0s - loss: 48.8320 - mean_squared_error: 48.8320 - val_loss: 48.2772 - val_mean_squared_error: 48.2772 - 225ms/epoch - 3ms/step\n",
      "Epoch 149/400\n",
      "71/71 - 0s - loss: 46.6212 - mean_squared_error: 46.6212 - val_loss: 63.0683 - val_mean_squared_error: 63.0683 - 210ms/epoch - 3ms/step\n",
      "Epoch 150/400\n",
      "71/71 - 0s - loss: 47.6995 - mean_squared_error: 47.6995 - val_loss: 55.2292 - val_mean_squared_error: 55.2292 - 215ms/epoch - 3ms/step\n",
      "Epoch 151/400\n",
      "71/71 - 0s - loss: 49.1938 - mean_squared_error: 49.1938 - val_loss: 67.6791 - val_mean_squared_error: 67.6791 - 219ms/epoch - 3ms/step\n",
      "Epoch 152/400\n",
      "71/71 - 0s - loss: 50.0537 - mean_squared_error: 50.0537 - val_loss: 49.2670 - val_mean_squared_error: 49.2670 - 227ms/epoch - 3ms/step\n",
      "Epoch 153/400\n",
      "71/71 - 0s - loss: 46.7986 - mean_squared_error: 46.7986 - val_loss: 56.1507 - val_mean_squared_error: 56.1507 - 216ms/epoch - 3ms/step\n",
      "Epoch 154/400\n",
      "71/71 - 0s - loss: 46.2405 - mean_squared_error: 46.2405 - val_loss: 48.0661 - val_mean_squared_error: 48.0661 - 215ms/epoch - 3ms/step\n",
      "Epoch 155/400\n",
      "71/71 - 0s - loss: 47.7706 - mean_squared_error: 47.7706 - val_loss: 84.9223 - val_mean_squared_error: 84.9222 - 205ms/epoch - 3ms/step\n",
      "Epoch 156/400\n",
      "71/71 - 0s - loss: 47.9283 - mean_squared_error: 47.9283 - val_loss: 59.1000 - val_mean_squared_error: 59.1000 - 222ms/epoch - 3ms/step\n",
      "Epoch 157/400\n",
      "71/71 - 0s - loss: 47.8990 - mean_squared_error: 47.8990 - val_loss: 53.6207 - val_mean_squared_error: 53.6207 - 207ms/epoch - 3ms/step\n",
      "Epoch 158/400\n",
      "71/71 - 0s - loss: 46.8738 - mean_squared_error: 46.8738 - val_loss: 48.0143 - val_mean_squared_error: 48.0143 - 217ms/epoch - 3ms/step\n",
      "Epoch 159/400\n",
      "71/71 - 0s - loss: 47.1291 - mean_squared_error: 47.1291 - val_loss: 47.3813 - val_mean_squared_error: 47.3813 - 224ms/epoch - 3ms/step\n",
      "Epoch 160/400\n",
      "71/71 - 0s - loss: 47.5005 - mean_squared_error: 47.5005 - val_loss: 90.1706 - val_mean_squared_error: 90.1706 - 213ms/epoch - 3ms/step\n",
      "Epoch 161/400\n",
      "71/71 - 0s - loss: 48.5159 - mean_squared_error: 48.5159 - val_loss: 57.0405 - val_mean_squared_error: 57.0405 - 221ms/epoch - 3ms/step\n",
      "Epoch 162/400\n",
      "71/71 - 0s - loss: 47.8813 - mean_squared_error: 47.8813 - val_loss: 67.8955 - val_mean_squared_error: 67.8955 - 234ms/epoch - 3ms/step\n",
      "Epoch 163/400\n",
      "71/71 - 0s - loss: 46.8520 - mean_squared_error: 46.8520 - val_loss: 55.4447 - val_mean_squared_error: 55.4447 - 229ms/epoch - 3ms/step\n",
      "Epoch 164/400\n",
      "71/71 - 0s - loss: 48.5635 - mean_squared_error: 48.5635 - val_loss: 49.7955 - val_mean_squared_error: 49.7955 - 224ms/epoch - 3ms/step\n",
      "Epoch 165/400\n",
      "71/71 - 0s - loss: 44.8061 - mean_squared_error: 44.8061 - val_loss: 72.5151 - val_mean_squared_error: 72.5151 - 221ms/epoch - 3ms/step\n",
      "Epoch 166/400\n",
      "71/71 - 0s - loss: 48.4245 - mean_squared_error: 48.4245 - val_loss: 46.9244 - val_mean_squared_error: 46.9244 - 221ms/epoch - 3ms/step\n",
      "Epoch 167/400\n",
      "71/71 - 0s - loss: 46.7959 - mean_squared_error: 46.7959 - val_loss: 88.0705 - val_mean_squared_error: 88.0705 - 219ms/epoch - 3ms/step\n",
      "Epoch 168/400\n",
      "71/71 - 0s - loss: 45.4524 - mean_squared_error: 45.4524 - val_loss: 69.2660 - val_mean_squared_error: 69.2660 - 232ms/epoch - 3ms/step\n",
      "Epoch 169/400\n",
      "71/71 - 0s - loss: 47.4004 - mean_squared_error: 47.4004 - val_loss: 54.3528 - val_mean_squared_error: 54.3528 - 209ms/epoch - 3ms/step\n",
      "Epoch 170/400\n",
      "71/71 - 0s - loss: 47.9490 - mean_squared_error: 47.9490 - val_loss: 54.2895 - val_mean_squared_error: 54.2895 - 320ms/epoch - 5ms/step\n",
      "Epoch 171/400\n",
      "71/71 - 0s - loss: 44.9654 - mean_squared_error: 44.9654 - val_loss: 52.9006 - val_mean_squared_error: 52.9006 - 224ms/epoch - 3ms/step\n",
      "Epoch 172/400\n",
      "71/71 - 0s - loss: 45.7594 - mean_squared_error: 45.7594 - val_loss: 107.1040 - val_mean_squared_error: 107.1040 - 231ms/epoch - 3ms/step\n",
      "Epoch 173/400\n",
      "71/71 - 0s - loss: 43.5919 - mean_squared_error: 43.5919 - val_loss: 92.3405 - val_mean_squared_error: 92.3405 - 225ms/epoch - 3ms/step\n",
      "Epoch 174/400\n",
      "71/71 - 0s - loss: 45.3757 - mean_squared_error: 45.3757 - val_loss: 47.8948 - val_mean_squared_error: 47.8948 - 241ms/epoch - 3ms/step\n",
      "Epoch 175/400\n",
      "71/71 - 0s - loss: 44.6600 - mean_squared_error: 44.6600 - val_loss: 49.1445 - val_mean_squared_error: 49.1445 - 235ms/epoch - 3ms/step\n",
      "Epoch 176/400\n",
      "71/71 - 0s - loss: 43.2642 - mean_squared_error: 43.2642 - val_loss: 95.6185 - val_mean_squared_error: 95.6185 - 227ms/epoch - 3ms/step\n",
      "Epoch 177/400\n",
      "71/71 - 0s - loss: 43.5052 - mean_squared_error: 43.5052 - val_loss: 48.4006 - val_mean_squared_error: 48.4006 - 238ms/epoch - 3ms/step\n",
      "Epoch 178/400\n",
      "71/71 - 0s - loss: 47.1107 - mean_squared_error: 47.1107 - val_loss: 48.1694 - val_mean_squared_error: 48.1694 - 228ms/epoch - 3ms/step\n",
      "Epoch 179/400\n",
      "71/71 - 0s - loss: 44.5046 - mean_squared_error: 44.5046 - val_loss: 48.8060 - val_mean_squared_error: 48.8060 - 210ms/epoch - 3ms/step\n",
      "Epoch 180/400\n",
      "71/71 - 0s - loss: 47.0169 - mean_squared_error: 47.0169 - val_loss: 74.5206 - val_mean_squared_error: 74.5206 - 214ms/epoch - 3ms/step\n",
      "Epoch 181/400\n",
      "71/71 - 0s - loss: 45.3612 - mean_squared_error: 45.3612 - val_loss: 48.6473 - val_mean_squared_error: 48.6473 - 224ms/epoch - 3ms/step\n",
      "Epoch 182/400\n",
      "71/71 - 0s - loss: 43.7240 - mean_squared_error: 43.7240 - val_loss: 48.4432 - val_mean_squared_error: 48.4432 - 217ms/epoch - 3ms/step\n",
      "Epoch 183/400\n",
      "71/71 - 0s - loss: 44.4571 - mean_squared_error: 44.4571 - val_loss: 49.8427 - val_mean_squared_error: 49.8427 - 227ms/epoch - 3ms/step\n",
      "Epoch 184/400\n",
      "71/71 - 0s - loss: 45.5872 - mean_squared_error: 45.5872 - val_loss: 47.5851 - val_mean_squared_error: 47.5851 - 218ms/epoch - 3ms/step\n",
      "Epoch 185/400\n",
      "71/71 - 0s - loss: 45.1503 - mean_squared_error: 45.1503 - val_loss: 57.7296 - val_mean_squared_error: 57.7296 - 230ms/epoch - 3ms/step\n",
      "Epoch 186/400\n",
      "71/71 - 0s - loss: 43.3896 - mean_squared_error: 43.3896 - val_loss: 56.1812 - val_mean_squared_error: 56.1812 - 240ms/epoch - 3ms/step\n",
      "Epoch 187/400\n",
      "71/71 - 0s - loss: 42.2720 - mean_squared_error: 42.2720 - val_loss: 64.8213 - val_mean_squared_error: 64.8213 - 239ms/epoch - 3ms/step\n",
      "Epoch 188/400\n",
      "71/71 - 0s - loss: 44.3462 - mean_squared_error: 44.3462 - val_loss: 49.5407 - val_mean_squared_error: 49.5407 - 225ms/epoch - 3ms/step\n",
      "Epoch 189/400\n",
      "71/71 - 0s - loss: 43.1411 - mean_squared_error: 43.1411 - val_loss: 50.2411 - val_mean_squared_error: 50.2411 - 224ms/epoch - 3ms/step\n",
      "Epoch 190/400\n",
      "71/71 - 0s - loss: 41.7154 - mean_squared_error: 41.7154 - val_loss: 55.0533 - val_mean_squared_error: 55.0533 - 222ms/epoch - 3ms/step\n",
      "Epoch 191/400\n",
      "71/71 - 0s - loss: 43.3636 - mean_squared_error: 43.3636 - val_loss: 51.0030 - val_mean_squared_error: 51.0030 - 235ms/epoch - 3ms/step\n",
      "Epoch 192/400\n",
      "71/71 - 0s - loss: 43.4662 - mean_squared_error: 43.4662 - val_loss: 51.7697 - val_mean_squared_error: 51.7697 - 228ms/epoch - 3ms/step\n",
      "Epoch 193/400\n",
      "71/71 - 0s - loss: 42.2134 - mean_squared_error: 42.2134 - val_loss: 48.8534 - val_mean_squared_error: 48.8534 - 222ms/epoch - 3ms/step\n",
      "Epoch 194/400\n",
      "71/71 - 0s - loss: 44.4086 - mean_squared_error: 44.4086 - val_loss: 49.5794 - val_mean_squared_error: 49.5794 - 214ms/epoch - 3ms/step\n",
      "Epoch 195/400\n",
      "71/71 - 0s - loss: 42.9159 - mean_squared_error: 42.9159 - val_loss: 60.7398 - val_mean_squared_error: 60.7398 - 204ms/epoch - 3ms/step\n",
      "Epoch 196/400\n",
      "71/71 - 0s - loss: 41.2820 - mean_squared_error: 41.2820 - val_loss: 48.1130 - val_mean_squared_error: 48.1130 - 237ms/epoch - 3ms/step\n",
      "Epoch 197/400\n",
      "71/71 - 0s - loss: 45.5902 - mean_squared_error: 45.5902 - val_loss: 47.7516 - val_mean_squared_error: 47.7516 - 206ms/epoch - 3ms/step\n",
      "Epoch 198/400\n",
      "71/71 - 0s - loss: 43.7978 - mean_squared_error: 43.7978 - val_loss: 52.3799 - val_mean_squared_error: 52.3799 - 211ms/epoch - 3ms/step\n",
      "Epoch 199/400\n",
      "71/71 - 0s - loss: 43.6501 - mean_squared_error: 43.6501 - val_loss: 50.8263 - val_mean_squared_error: 50.8263 - 217ms/epoch - 3ms/step\n",
      "Epoch 200/400\n",
      "71/71 - 0s - loss: 44.0593 - mean_squared_error: 44.0593 - val_loss: 68.1027 - val_mean_squared_error: 68.1027 - 215ms/epoch - 3ms/step\n",
      "Epoch 201/400\n",
      "71/71 - 0s - loss: 44.8104 - mean_squared_error: 44.8104 - val_loss: 49.9869 - val_mean_squared_error: 49.9869 - 217ms/epoch - 3ms/step\n",
      "Epoch 202/400\n",
      "71/71 - 0s - loss: 42.8640 - mean_squared_error: 42.8640 - val_loss: 57.6010 - val_mean_squared_error: 57.6010 - 211ms/epoch - 3ms/step\n",
      "Epoch 203/400\n",
      "71/71 - 0s - loss: 43.9569 - mean_squared_error: 43.9569 - val_loss: 50.3579 - val_mean_squared_error: 50.3579 - 212ms/epoch - 3ms/step\n",
      "Epoch 204/400\n",
      "71/71 - 0s - loss: 44.3681 - mean_squared_error: 44.3681 - val_loss: 50.1926 - val_mean_squared_error: 50.1926 - 209ms/epoch - 3ms/step\n",
      "Epoch 205/400\n",
      "71/71 - 0s - loss: 43.0922 - mean_squared_error: 43.0922 - val_loss: 47.9010 - val_mean_squared_error: 47.9010 - 220ms/epoch - 3ms/step\n",
      "Epoch 206/400\n",
      "71/71 - 0s - loss: 42.3761 - mean_squared_error: 42.3761 - val_loss: 48.4095 - val_mean_squared_error: 48.4095 - 221ms/epoch - 3ms/step\n",
      "Epoch 207/400\n",
      "71/71 - 0s - loss: 42.7817 - mean_squared_error: 42.7817 - val_loss: 50.4805 - val_mean_squared_error: 50.4805 - 214ms/epoch - 3ms/step\n",
      "Epoch 208/400\n",
      "71/71 - 0s - loss: 42.1795 - mean_squared_error: 42.1795 - val_loss: 103.9205 - val_mean_squared_error: 103.9205 - 203ms/epoch - 3ms/step\n",
      "Epoch 209/400\n",
      "71/71 - 0s - loss: 42.4327 - mean_squared_error: 42.4327 - val_loss: 67.9838 - val_mean_squared_error: 67.9838 - 236ms/epoch - 3ms/step\n",
      "Epoch 210/400\n",
      "71/71 - 0s - loss: 43.1412 - mean_squared_error: 43.1412 - val_loss: 51.4940 - val_mean_squared_error: 51.4940 - 217ms/epoch - 3ms/step\n",
      "Epoch 211/400\n",
      "71/71 - 0s - loss: 42.0156 - mean_squared_error: 42.0156 - val_loss: 56.2555 - val_mean_squared_error: 56.2555 - 200ms/epoch - 3ms/step\n",
      "CPU times: user 5 µs, sys: 0 ns, total: 5 µs\n",
      "Wall time: 9.3 µs\n"
     ]
    }
   ],
   "source": [
    "X = df.iloc[:,:-1]\n",
    "y = df.iloc[:,-1]\n",
    "\n",
    "callbacks = myCallbacks()\n",
    "\n",
    "%time\n",
    "history = model.fit(X, y, validation_split = 0.3, epochs=400, verbose=2,\n",
    "                   batch_size=10, callbacks=[callbacks, early_stopping])\n",
    "%time"
   ]
  },
  {
   "cell_type": "markdown",
   "id": "cdf416ab",
   "metadata": {
    "papermill": {
     "duration": 0.063643,
     "end_time": "2023-08-09T15:09:32.331492",
     "exception": false,
     "start_time": "2023-08-09T15:09:32.267849",
     "status": "completed"
    },
    "tags": []
   },
   "source": [
    "<a id = '5.4'></a>\n",
    "# [5.4 Evaluating the model performance](#0)"
   ]
  },
  {
   "cell_type": "code",
   "execution_count": 20,
   "id": "ee94fe1e",
   "metadata": {
    "execution": {
     "iopub.execute_input": "2023-08-09T15:09:32.461118Z",
     "iopub.status.busy": "2023-08-09T15:09:32.460032Z",
     "iopub.status.idle": "2023-08-09T15:10:05.734499Z",
     "shell.execute_reply": "2023-08-09T15:10:05.732933Z"
    },
    "papermill": {
     "duration": 33.414046,
     "end_time": "2023-08-09T15:10:05.808959",
     "exception": false,
     "start_time": "2023-08-09T15:09:32.394913",
     "status": "completed"
    },
    "tags": []
   },
   "outputs": [
    {
     "data": {
      "image/png": "[encoded data removed]",
      "text/plain": [
       "<Figure size 600x400 with 1 Axes>"
      ]
     },
     "metadata": {},
     "output_type": "display_data"
    }
   ],
   "source": [
    "# summarize history for loss\n",
    "\n",
    "plt.figure(figsize = (6,4))\n",
    "plt.plot(history.history['loss'], 'r--')\n",
    "plt.plot(history.history['val_loss'], 'b--')\n",
    "plt.title('model loss')\n",
    "\n",
    "plt.legend(['train', 'val'], loc='upper left')\n",
    "plt.show()"
   ]
  },
  {
   "cell_type": "code",
   "execution_count": 21,
   "id": "e927f143",
   "metadata": {
    "execution": {
     "iopub.execute_input": "2023-08-09T15:10:05.939760Z",
     "iopub.status.busy": "2023-08-09T15:10:05.939195Z",
     "iopub.status.idle": "2023-08-09T15:10:05.984043Z",
     "shell.execute_reply": "2023-08-09T15:10:05.982475Z"
    },
    "papermill": {
     "duration": 0.113454,
     "end_time": "2023-08-09T15:10:05.987327",
     "exception": false,
     "start_time": "2023-08-09T15:10:05.873873",
     "status": "completed"
    },
    "tags": []
   },
   "outputs": [],
   "source": [
    "model.save('concrete_strength_prediction_NN.h5')"
   ]
  },
  {
   "cell_type": "markdown",
   "id": "d1dad3c9",
   "metadata": {
    "papermill": {
     "duration": 0.066827,
     "end_time": "2023-08-09T15:10:06.122074",
     "exception": false,
     "start_time": "2023-08-09T15:10:06.055247",
     "status": "completed"
    },
    "tags": []
   },
   "source": [
    "# Yayy!! We have successfully built a neural network for regression that performs reasonably well."
   ]
  }
 ],
 "metadata": {
  "kernelspec": {
   "display_name": "Python 3",
   "language": "python",
   "name": "python3"
  },
  "language_info": {
   "codemirror_mode": {
    "name": "ipython",
    "version": 3
   },
   "file_extension": ".py",
   "mimetype": "text/x-python",
   "name": "python",
   "nbconvert_exporter": "python",
   "pygments_lexer": "ipython3",
   "version": "3.10.10"
  },
  "papermill": {
   "default_parameters": {},
   "duration": 130.784699,
   "end_time": "2023-08-09T15:10:09.538339",
   "environment_variables": {},
   "exception": null,
   "input_path": "__notebook__.ipynb",
   "output_path": "__notebook__.ipynb",
   "parameters": {},
   "start_time": "2023-08-09T15:07:58.753640",
   "version": "2.4.0"
  }
 },
 "nbformat": 4,
 "nbformat_minor": 5
}
